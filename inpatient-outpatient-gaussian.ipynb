{
 "cells": [
  {
   "cell_type": "code",
   "execution_count": null,
   "metadata": {},
   "outputs": [],
   "source": [
    "import os\n",
    "import sys\n",
    "import data\n",
    "import numpy             as np\n",
    "import pandas            as pd\n",
    "import scipy.io          as sio\n",
    "import matplotlib.pyplot as plt\n",
    "%matplotlib inline\n",
    "plt.rcParams['font.size'] = 14"
   ]
  },
  {
   "cell_type": "code",
   "execution_count": null,
   "metadata": {},
   "outputs": [],
   "source": [
    "patt      = '*Inpatient_Claims_Sample_*' # regex\n",
    "data_path = os.path.join(os.path.realpath('.'), 'synthetic_data/')\n",
    "\n",
    "# regex pattern for file type (we are focusing on Inpatient for our analysis)\n",
    "df       = data.read_in_all_files(data_path, patt)\n",
    "model_df = data.create_inpatient_core_df(df)\n",
    "model_df = data.add_summary_info(model_df, data_path)"
   ]
  },
  {
   "cell_type": "code",
   "execution_count": null,
   "metadata": {},
   "outputs": [],
   "source": [
    "df_in_amt  = model_df['clm_pmt_amt'       ].values\n",
    "df_in_days = model_df['clm_utlztn_day_cnt'].values\n",
    "# list(model_df.columns.values)"
   ]
  },
  {
   "cell_type": "code",
   "execution_count": null,
   "metadata": {},
   "outputs": [],
   "source": [
    "## Select features\n",
    "# Case 1: x1 = claim utilization day counts; x2 = claim payment amount\n",
    "# df_in_days = df_in.CLM_UTLZTN_DAY_CNT.to_numpy()\n",
    "# df_in_amt  = df_in.CLM_PMT_AMT.to_numpy()\n",
    "X = np.array([df_in_days, df_in_amt]).T\n",
    "\n",
    "# Set empty entries to k days\n",
    "k = 1\n",
    "Idx_nan = np.argwhere(np.isnan(X))\n",
    "X [Idx_nan, 0] = k\n",
    "\n",
    "plt.figure()\n",
    "plt.scatter(X[:, 0], X[:, 1])\n",
    "plt.xlabel('Claim utilization days (day)')\n",
    "plt.ylabel('Claim payment amount (dollar)')"
   ]
  },
  {
   "cell_type": "code",
   "execution_count": null,
   "metadata": {},
   "outputs": [],
   "source": [
    "#Estimate the dataset statistics\n",
    "#Assume a Gaussian distribution\n",
    "def estimateGaussian(X):\n",
    "    m, n   = X.shape\n",
    "    mu     = np.mean(X, 0)\n",
    "    sigma2 = np.var(X, 0)\n",
    "    return mu, sigma2"
   ]
  },
  {
   "cell_type": "code",
   "execution_count": null,
   "metadata": {},
   "outputs": [],
   "source": [
    "mu, sigma2 = estimateGaussian(X)"
   ]
  },
  {
   "cell_type": "code",
   "execution_count": null,
   "metadata": {},
   "outputs": [],
   "source": [
    "def multivariateGaussian(X, mu, sigma2):\n",
    "    k = mu.size\n",
    "    if (sigma2.ndim==1):\n",
    "        sigma2 = np.diag(sigma2)\n",
    "    X = X - mu\n",
    "    p = (2*np.pi)**(-k/2)*np.linalg.det(sigma2)**(-0.5)*np.exp(-0.5*np.sum(X.dot(np.linalg.pinv(sigma2))*X, 1))\n",
    "    return p   "
   ]
  },
  {
   "cell_type": "code",
   "execution_count": null,
   "metadata": {},
   "outputs": [],
   "source": [
    "#visualize Gaussian fit\n",
    "def visualizeFit(X, mu, sigma2):\n",
    "    x1 = np.linspace(0, 35, 71)\n",
    "    x2 = np.linspace(0, 35, 71)\n",
    "    xv1, xv2 = np.meshgrid(x1, x2)\n",
    "    Xv = np.array([xv1.ravel(), xv2.ravel()])\n",
    "    Z = multivariateGaussian(Xv.T, mu, sigma2)\n",
    "    Z = np.reshape(Z, xv1.shape)\n",
    "    plt.figure()\n",
    "    plt.scatter(X[:, 0], X[:, 1])\n",
    "    exp = np.linspace(-20, 0, 6)\n",
    "    plt.contour(xv1, xv2, Z, 10**exp.T)"
   ]
  },
  {
   "cell_type": "code",
   "execution_count": null,
   "metadata": {},
   "outputs": [],
   "source": [
    "# def selectThreshold(yval, pval):\n",
    "#     bestEpsilon = 0.\n",
    "#     bestF1 = 0.\n",
    "#     F1 = 0.\n",
    "#     stepsize = (np.max(pval) - np.min(pval)) / 1000.\n",
    "#     for epsilon in np.arange(np.min(pval), np.max(pval), stepsize):\n",
    "#         predictions = pval < epsilon\n",
    "#         tp = np.sum((predictions==1) & (yval.T==1)) * 1.0\n",
    "#         fp = np.sum((predictions==1) & (yval.T==0)) * 1.0\n",
    "#         fn = np.sum((predictions==0) & (yval.T==1)) * 1.0\n",
    "#         prec = tp/(tp+fp)              if tp + fp    > 0.0 else 0.0\n",
    "#         rec  = tp/(tp+fn)              if tp + fn    > 0.0 else 0.0\n",
    "#         F1   = (2*prec*rec)/(prec+rec) if prec + rec > 0.0 else 0.0\n",
    "#         if F1 > bestF1:\n",
    "#             bestF1 = F1\n",
    "#             bestEpsilon = epsilon\n",
    "#         f1_log.append(F1)\n",
    "#         eps_log.append(epsilon)\n",
    "#     return bestEpsilon, bestF1"
   ]
  },
  {
   "cell_type": "code",
   "execution_count": null,
   "metadata": {},
   "outputs": [],
   "source": [
    "# global f1_log, eps_log\n",
    "# f1_log  = []\n",
    "# eps_log = []\n",
    "\n",
    "# #select threshold based on F1 score on cross validation set\n",
    "# pval        = multivariateGaussian(Xval, mu, sigma2)\n",
    "# epsilon, F1 = selectThreshold(yval, pval)\n",
    "# epsilon\n",
    "#plt.plot(eps_log, f1_log)"
   ]
  },
  {
   "cell_type": "code",
   "execution_count": null,
   "metadata": {},
   "outputs": [],
   "source": [
    "# Specify threshold probability epsilon\n",
    "epsilon = 1e-10"
   ]
  },
  {
   "cell_type": "code",
   "execution_count": null,
   "metadata": {},
   "outputs": [],
   "source": [
    "#Find the outliers\n",
    "p        = multivariateGaussian(X, mu, sigma2)\n",
    "outliers = np.argwhere(p<epsilon)\n",
    "visualizeFit(X, mu, sigma2)\n",
    "plt.scatter(X[outliers, 0], X[outliers, 1])"
   ]
  },
  {
   "cell_type": "code",
   "execution_count": null,
   "metadata": {},
   "outputs": [],
   "source": [
    "plt.hist(X[:,1], bins=30, normed=True)"
   ]
  },
  {
   "cell_type": "code",
   "execution_count": null,
   "metadata": {},
   "outputs": [],
   "source": [
    "plt.hist(X[:,0], bins=30, normed=True)"
   ]
  },
  {
   "cell_type": "code",
   "execution_count": null,
   "metadata": {},
   "outputs": [],
   "source": []
  },
  {
   "cell_type": "code",
   "execution_count": null,
   "metadata": {},
   "outputs": [],
   "source": []
  }
 ],
 "metadata": {
  "kernelspec": {
   "display_name": "Python 3",
   "language": "python",
   "name": "python3"
  },
  "language_info": {
   "codemirror_mode": {
    "name": "ipython",
    "version": 3
   },
   "file_extension": ".py",
   "mimetype": "text/x-python",
   "name": "python",
   "nbconvert_exporter": "python",
   "pygments_lexer": "ipython3",
   "version": "3.7.1"
  }
 },
 "nbformat": 4,
 "nbformat_minor": 2
}
