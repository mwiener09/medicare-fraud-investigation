{
 "cells": [
  {
   "cell_type": "code",
   "execution_count": 1,
   "metadata": {},
   "outputs": [],
   "source": [
    "import pandas as pd\n",
    "#import os\n",
    "#import fnmatch\n",
    "#from datetime import datetime\n",
    "import re\n",
    "import numpy as np\n",
    "import pickle\n",
    "from sklearn.feature_extraction.text import CountVectorizer\n",
    "from sklearn.decomposition import SparsePCA, PCA\n",
    "from sklearn.preprocessing import StandardScaler\n",
    "from sklearn.cluster import DBSCAN\n",
    "from sklearn.mixture import GaussianMixture, BayesianGaussianMixture\n",
    "import seaborn as sns\n",
    "from matplotlib import pyplot as plt\n",
    "%matplotlib inline"
   ]
  },
  {
   "cell_type": "code",
   "execution_count": 2,
   "metadata": {},
   "outputs": [],
   "source": [
    "# filename = 'unfiltered_model_df.pickle'\n",
    "# with open(filename, 'rb') as d:\n",
    "#     model_df = pickle.load(d)"
   ]
  },
  {
   "cell_type": "code",
   "execution_count": 3,
   "metadata": {},
   "outputs": [],
   "source": [
    "pickle_folder = '04302019_pickle/'"
   ]
  },
  {
   "cell_type": "code",
   "execution_count": 4,
   "metadata": {},
   "outputs": [],
   "source": [
    "filename = 'hip_replacement_model_df.pickle'\n",
    "with open(filename, 'rb') as d:\n",
    "    model_df = pickle.load(d)\n",
    "\n",
    "# reset index for filtered df\n",
    "model_df.index = list(range(0,(model_df.shape[0])))"
   ]
  },
  {
   "cell_type": "code",
   "execution_count": 5,
   "metadata": {},
   "outputs": [
    {
     "data": {
      "text/html": [
       "<div>\n",
       "<style scoped>\n",
       "    .dataframe tbody tr th:only-of-type {\n",
       "        vertical-align: middle;\n",
       "    }\n",
       "\n",
       "    .dataframe tbody tr th {\n",
       "        vertical-align: top;\n",
       "    }\n",
       "\n",
       "    .dataframe thead th {\n",
       "        text-align: right;\n",
       "    }\n",
       "</style>\n",
       "<table border=\"1\" class=\"dataframe\">\n",
       "  <thead>\n",
       "    <tr style=\"text-align: right;\">\n",
       "      <th></th>\n",
       "      <th>clm_id</th>\n",
       "      <th>desynpuf_id</th>\n",
       "      <th>sample_number</th>\n",
       "      <th>clm_start_year</th>\n",
       "      <th>clm_start_month</th>\n",
       "      <th>clm_start_day</th>\n",
       "      <th>clm_from_datetime</th>\n",
       "      <th>clm_utlztn_day_cnt</th>\n",
       "      <th>clm_utlztn_day_cnt_grouped</th>\n",
       "      <th>prvdr_num</th>\n",
       "      <th>...</th>\n",
       "      <th>benres_car_2010</th>\n",
       "      <th>pppymt_car_2010</th>\n",
       "      <th>chronic_condition_count_2010</th>\n",
       "      <th>collapsed_states</th>\n",
       "      <th>collapsed_counties</th>\n",
       "      <th>death_date</th>\n",
       "      <th>death_month</th>\n",
       "      <th>death_year</th>\n",
       "      <th>death_day</th>\n",
       "      <th>death_before_claim_ind</th>\n",
       "    </tr>\n",
       "  </thead>\n",
       "  <tbody>\n",
       "    <tr>\n",
       "      <th>5587</th>\n",
       "      <td>45741150084575</td>\n",
       "      <td>FF8147E77498A754</td>\n",
       "      <td>2</td>\n",
       "      <td>2009</td>\n",
       "      <td>7</td>\n",
       "      <td>24</td>\n",
       "      <td>2009-07-24</td>\n",
       "      <td>3.0</td>\n",
       "      <td>0-3 days</td>\n",
       "      <td>45058P</td>\n",
       "      <td>...</td>\n",
       "      <td>940.0</td>\n",
       "      <td>0.0</td>\n",
       "      <td>11.0</td>\n",
       "      <td>45.0</td>\n",
       "      <td>653.0</td>\n",
       "      <td>NaT</td>\n",
       "      <td>NaN</td>\n",
       "      <td>NaN</td>\n",
       "      <td>NaN</td>\n",
       "      <td>0</td>\n",
       "    </tr>\n",
       "    <tr>\n",
       "      <th>5588</th>\n",
       "      <td>45251150066581</td>\n",
       "      <td>FF85972E96F9FE4F</td>\n",
       "      <td>2</td>\n",
       "      <td>2008</td>\n",
       "      <td>11</td>\n",
       "      <td>10</td>\n",
       "      <td>2008-11-10</td>\n",
       "      <td>6.0</td>\n",
       "      <td>4-7 days</td>\n",
       "      <td>6700SA</td>\n",
       "      <td>...</td>\n",
       "      <td>0.0</td>\n",
       "      <td>0.0</td>\n",
       "      <td>8.0</td>\n",
       "      <td>45.0</td>\n",
       "      <td>670.0</td>\n",
       "      <td>NaT</td>\n",
       "      <td>NaN</td>\n",
       "      <td>NaN</td>\n",
       "      <td>NaN</td>\n",
       "      <td>0</td>\n",
       "    </tr>\n",
       "    <tr>\n",
       "      <th>5589</th>\n",
       "      <td>45281150101007</td>\n",
       "      <td>FF85972E96F9FE4F</td>\n",
       "      <td>2</td>\n",
       "      <td>2010</td>\n",
       "      <td>1</td>\n",
       "      <td>25</td>\n",
       "      <td>2010-01-25</td>\n",
       "      <td>0.0</td>\n",
       "      <td>0-3 days</td>\n",
       "      <td>4502ZB</td>\n",
       "      <td>...</td>\n",
       "      <td>0.0</td>\n",
       "      <td>0.0</td>\n",
       "      <td>8.0</td>\n",
       "      <td>45.0</td>\n",
       "      <td>670.0</td>\n",
       "      <td>NaT</td>\n",
       "      <td>NaN</td>\n",
       "      <td>NaN</td>\n",
       "      <td>NaN</td>\n",
       "      <td>0</td>\n",
       "    </tr>\n",
       "    <tr>\n",
       "      <th>5590</th>\n",
       "      <td>45431150053234</td>\n",
       "      <td>FFB3E467A295008B</td>\n",
       "      <td>2</td>\n",
       "      <td>2010</td>\n",
       "      <td>8</td>\n",
       "      <td>31</td>\n",
       "      <td>2010-08-31</td>\n",
       "      <td>4.0</td>\n",
       "      <td>4-7 days</td>\n",
       "      <td>35T0KK</td>\n",
       "      <td>...</td>\n",
       "      <td>780.0</td>\n",
       "      <td>0.0</td>\n",
       "      <td>8.0</td>\n",
       "      <td>35.0</td>\n",
       "      <td>170.0</td>\n",
       "      <td>NaT</td>\n",
       "      <td>NaN</td>\n",
       "      <td>NaN</td>\n",
       "      <td>NaN</td>\n",
       "      <td>0</td>\n",
       "    </tr>\n",
       "    <tr>\n",
       "      <th>5591</th>\n",
       "      <td>45391150053616</td>\n",
       "      <td>FFF0A562C99579F7</td>\n",
       "      <td>2</td>\n",
       "      <td>2009</td>\n",
       "      <td>2</td>\n",
       "      <td>26</td>\n",
       "      <td>2009-02-26</td>\n",
       "      <td>3.0</td>\n",
       "      <td>0-3 days</td>\n",
       "      <td>4400WA</td>\n",
       "      <td>...</td>\n",
       "      <td>120.0</td>\n",
       "      <td>60.0</td>\n",
       "      <td>10.0</td>\n",
       "      <td>44.0</td>\n",
       "      <td>320.0</td>\n",
       "      <td>NaT</td>\n",
       "      <td>NaN</td>\n",
       "      <td>NaN</td>\n",
       "      <td>NaN</td>\n",
       "      <td>0</td>\n",
       "    </tr>\n",
       "  </tbody>\n",
       "</table>\n",
       "<p>5 rows × 85 columns</p>\n",
       "</div>"
      ],
      "text/plain": [
       "              clm_id       desynpuf_id sample_number  clm_start_year  \\\n",
       "5587  45741150084575  FF8147E77498A754             2            2009   \n",
       "5588  45251150066581  FF85972E96F9FE4F             2            2008   \n",
       "5589  45281150101007  FF85972E96F9FE4F             2            2010   \n",
       "5590  45431150053234  FFB3E467A295008B             2            2010   \n",
       "5591  45391150053616  FFF0A562C99579F7             2            2009   \n",
       "\n",
       "      clm_start_month  clm_start_day clm_from_datetime  clm_utlztn_day_cnt  \\\n",
       "5587                7             24        2009-07-24                 3.0   \n",
       "5588               11             10        2008-11-10                 6.0   \n",
       "5589                1             25        2010-01-25                 0.0   \n",
       "5590                8             31        2010-08-31                 4.0   \n",
       "5591                2             26        2009-02-26                 3.0   \n",
       "\n",
       "     clm_utlztn_day_cnt_grouped prvdr_num          ...            \\\n",
       "5587                   0-3 days    45058P          ...             \n",
       "5588                   4-7 days    6700SA          ...             \n",
       "5589                   0-3 days    4502ZB          ...             \n",
       "5590                   4-7 days    35T0KK          ...             \n",
       "5591                   0-3 days    4400WA          ...             \n",
       "\n",
       "     benres_car_2010  pppymt_car_2010 chronic_condition_count_2010  \\\n",
       "5587           940.0              0.0                         11.0   \n",
       "5588             0.0              0.0                          8.0   \n",
       "5589             0.0              0.0                          8.0   \n",
       "5590           780.0              0.0                          8.0   \n",
       "5591           120.0             60.0                         10.0   \n",
       "\n",
       "     collapsed_states  collapsed_counties death_date death_month death_year  \\\n",
       "5587             45.0               653.0        NaT         NaN        NaN   \n",
       "5588             45.0               670.0        NaT         NaN        NaN   \n",
       "5589             45.0               670.0        NaT         NaN        NaN   \n",
       "5590             35.0               170.0        NaT         NaN        NaN   \n",
       "5591             44.0               320.0        NaT         NaN        NaN   \n",
       "\n",
       "     death_day death_before_claim_ind  \n",
       "5587       NaN                      0  \n",
       "5588       NaN                      0  \n",
       "5589       NaN                      0  \n",
       "5590       NaN                      0  \n",
       "5591       NaN                      0  \n",
       "\n",
       "[5 rows x 85 columns]"
      ]
     },
     "execution_count": 5,
     "metadata": {},
     "output_type": "execute_result"
    }
   ],
   "source": [
    "model_df.tail()"
   ]
  },
  {
   "cell_type": "code",
   "execution_count": 6,
   "metadata": {},
   "outputs": [
    {
     "data": {
      "text/html": [
       "<div>\n",
       "<style scoped>\n",
       "    .dataframe tbody tr th:only-of-type {\n",
       "        vertical-align: middle;\n",
       "    }\n",
       "\n",
       "    .dataframe tbody tr th {\n",
       "        vertical-align: top;\n",
       "    }\n",
       "\n",
       "    .dataframe thead th {\n",
       "        text-align: right;\n",
       "    }\n",
       "</style>\n",
       "<table border=\"1\" class=\"dataframe\">\n",
       "  <thead>\n",
       "    <tr style=\"text-align: right;\">\n",
       "      <th></th>\n",
       "      <th>clm_id</th>\n",
       "      <th>clm_start_year</th>\n",
       "      <th>clm_start_month</th>\n",
       "      <th>clm_start_day</th>\n",
       "      <th>clm_utlztn_day_cnt</th>\n",
       "      <th>at_physn_npi</th>\n",
       "      <th>clm_pmt_amt</th>\n",
       "      <th>sp_state_code_2008</th>\n",
       "      <th>bene_county_cd_2008</th>\n",
       "      <th>bene_death_dt_2008</th>\n",
       "      <th>...</th>\n",
       "      <th>benres_op_2010</th>\n",
       "      <th>pppymt_op_2010</th>\n",
       "      <th>medreimb_car_2010</th>\n",
       "      <th>benres_car_2010</th>\n",
       "      <th>pppymt_car_2010</th>\n",
       "      <th>chronic_condition_count_2010</th>\n",
       "      <th>death_month</th>\n",
       "      <th>death_year</th>\n",
       "      <th>death_day</th>\n",
       "      <th>death_before_claim_ind</th>\n",
       "    </tr>\n",
       "  </thead>\n",
       "  <tbody>\n",
       "    <tr>\n",
       "      <th>count</th>\n",
       "      <td>5.592000e+03</td>\n",
       "      <td>5592.000000</td>\n",
       "      <td>5592.000000</td>\n",
       "      <td>5592.000000</td>\n",
       "      <td>5592.000000</td>\n",
       "      <td>5.542000e+03</td>\n",
       "      <td>5592.000000</td>\n",
       "      <td>5592.000000</td>\n",
       "      <td>5592.000000</td>\n",
       "      <td>1.600000e+01</td>\n",
       "      <td>...</td>\n",
       "      <td>5520.000000</td>\n",
       "      <td>5520.000000</td>\n",
       "      <td>5520.000000</td>\n",
       "      <td>5520.000000</td>\n",
       "      <td>5520.000000</td>\n",
       "      <td>5520.000000</td>\n",
       "      <td>154.000000</td>\n",
       "      <td>154.000000</td>\n",
       "      <td>154.0</td>\n",
       "      <td>5592.0</td>\n",
       "    </tr>\n",
       "    <tr>\n",
       "      <th>mean</th>\n",
       "      <td>1.212716e+14</td>\n",
       "      <td>2008.820279</td>\n",
       "      <td>6.303469</td>\n",
       "      <td>15.767167</td>\n",
       "      <td>3.939735</td>\n",
       "      <td>5.053263e+09</td>\n",
       "      <td>11953.472818</td>\n",
       "      <td>26.076001</td>\n",
       "      <td>382.399320</td>\n",
       "      <td>2.008088e+07</td>\n",
       "      <td>...</td>\n",
       "      <td>190.641304</td>\n",
       "      <td>21.452899</td>\n",
       "      <td>1498.173913</td>\n",
       "      <td>425.266304</td>\n",
       "      <td>23.121377</td>\n",
       "      <td>7.837500</td>\n",
       "      <td>6.857143</td>\n",
       "      <td>2009.428571</td>\n",
       "      <td>1.0</td>\n",
       "      <td>0.0</td>\n",
       "    </tr>\n",
       "    <tr>\n",
       "      <th>std</th>\n",
       "      <td>7.550651e+13</td>\n",
       "      <td>0.775956</td>\n",
       "      <td>3.321340</td>\n",
       "      <td>8.818900</td>\n",
       "      <td>2.797995</td>\n",
       "      <td>2.930592e+09</td>\n",
       "      <td>5118.846799</td>\n",
       "      <td>14.808880</td>\n",
       "      <td>271.456317</td>\n",
       "      <td>2.620433e+02</td>\n",
       "      <td>...</td>\n",
       "      <td>366.423914</td>\n",
       "      <td>340.304093</td>\n",
       "      <td>1123.097178</td>\n",
       "      <td>325.589548</td>\n",
       "      <td>87.611621</td>\n",
       "      <td>2.092586</td>\n",
       "      <td>3.189912</td>\n",
       "      <td>0.675018</td>\n",
       "      <td>0.0</td>\n",
       "      <td>0.0</td>\n",
       "    </tr>\n",
       "    <tr>\n",
       "      <th>min</th>\n",
       "      <td>4.501115e+13</td>\n",
       "      <td>2007.000000</td>\n",
       "      <td>1.000000</td>\n",
       "      <td>1.000000</td>\n",
       "      <td>0.000000</td>\n",
       "      <td>3.213682e+06</td>\n",
       "      <td>0.000000</td>\n",
       "      <td>1.000000</td>\n",
       "      <td>0.000000</td>\n",
       "      <td>2.008050e+07</td>\n",
       "      <td>...</td>\n",
       "      <td>0.000000</td>\n",
       "      <td>0.000000</td>\n",
       "      <td>0.000000</td>\n",
       "      <td>0.000000</td>\n",
       "      <td>0.000000</td>\n",
       "      <td>1.000000</td>\n",
       "      <td>1.000000</td>\n",
       "      <td>2008.000000</td>\n",
       "      <td>1.0</td>\n",
       "      <td>0.0</td>\n",
       "    </tr>\n",
       "    <tr>\n",
       "      <th>25%</th>\n",
       "      <td>4.550115e+13</td>\n",
       "      <td>2008.000000</td>\n",
       "      <td>4.000000</td>\n",
       "      <td>8.000000</td>\n",
       "      <td>3.000000</td>\n",
       "      <td>2.482526e+09</td>\n",
       "      <td>10000.000000</td>\n",
       "      <td>13.000000</td>\n",
       "      <td>150.000000</td>\n",
       "      <td>2.008060e+07</td>\n",
       "      <td>...</td>\n",
       "      <td>0.000000</td>\n",
       "      <td>0.000000</td>\n",
       "      <td>650.000000</td>\n",
       "      <td>180.000000</td>\n",
       "      <td>0.000000</td>\n",
       "      <td>6.000000</td>\n",
       "      <td>4.250000</td>\n",
       "      <td>2009.000000</td>\n",
       "      <td>1.0</td>\n",
       "      <td>0.0</td>\n",
       "    </tr>\n",
       "    <tr>\n",
       "      <th>50%</th>\n",
       "      <td>1.960112e+14</td>\n",
       "      <td>2009.000000</td>\n",
       "      <td>6.000000</td>\n",
       "      <td>16.000000</td>\n",
       "      <td>3.000000</td>\n",
       "      <td>4.971603e+09</td>\n",
       "      <td>11000.000000</td>\n",
       "      <td>26.000000</td>\n",
       "      <td>340.000000</td>\n",
       "      <td>2.008090e+07</td>\n",
       "      <td>...</td>\n",
       "      <td>30.000000</td>\n",
       "      <td>0.000000</td>\n",
       "      <td>1280.000000</td>\n",
       "      <td>360.000000</td>\n",
       "      <td>0.000000</td>\n",
       "      <td>8.000000</td>\n",
       "      <td>7.000000</td>\n",
       "      <td>2010.000000</td>\n",
       "      <td>1.0</td>\n",
       "      <td>0.0</td>\n",
       "    </tr>\n",
       "    <tr>\n",
       "      <th>75%</th>\n",
       "      <td>1.965012e+14</td>\n",
       "      <td>2009.000000</td>\n",
       "      <td>9.000000</td>\n",
       "      <td>23.000000</td>\n",
       "      <td>4.000000</td>\n",
       "      <td>7.708360e+09</td>\n",
       "      <td>13000.000000</td>\n",
       "      <td>38.000000</td>\n",
       "      <td>580.000000</td>\n",
       "      <td>2.008110e+07</td>\n",
       "      <td>...</td>\n",
       "      <td>220.000000</td>\n",
       "      <td>0.000000</td>\n",
       "      <td>2150.000000</td>\n",
       "      <td>620.000000</td>\n",
       "      <td>0.000000</td>\n",
       "      <td>9.000000</td>\n",
       "      <td>9.000000</td>\n",
       "      <td>2010.000000</td>\n",
       "      <td>1.0</td>\n",
       "      <td>0.0</td>\n",
       "    </tr>\n",
       "    <tr>\n",
       "      <th>max</th>\n",
       "      <td>1.969912e+14</td>\n",
       "      <td>2010.000000</td>\n",
       "      <td>12.000000</td>\n",
       "      <td>31.000000</td>\n",
       "      <td>70.000000</td>\n",
       "      <td>9.999035e+09</td>\n",
       "      <td>57000.000000</td>\n",
       "      <td>54.000000</td>\n",
       "      <td>999.000000</td>\n",
       "      <td>2.008120e+07</td>\n",
       "      <td>...</td>\n",
       "      <td>5520.000000</td>\n",
       "      <td>14000.000000</td>\n",
       "      <td>7630.000000</td>\n",
       "      <td>2110.000000</td>\n",
       "      <td>1200.000000</td>\n",
       "      <td>11.000000</td>\n",
       "      <td>12.000000</td>\n",
       "      <td>2010.000000</td>\n",
       "      <td>1.0</td>\n",
       "      <td>0.0</td>\n",
       "    </tr>\n",
       "  </tbody>\n",
       "</table>\n",
       "<p>8 rows × 62 columns</p>\n",
       "</div>"
      ],
      "text/plain": [
       "             clm_id  clm_start_year  clm_start_month  clm_start_day  \\\n",
       "count  5.592000e+03     5592.000000      5592.000000    5592.000000   \n",
       "mean   1.212716e+14     2008.820279         6.303469      15.767167   \n",
       "std    7.550651e+13        0.775956         3.321340       8.818900   \n",
       "min    4.501115e+13     2007.000000         1.000000       1.000000   \n",
       "25%    4.550115e+13     2008.000000         4.000000       8.000000   \n",
       "50%    1.960112e+14     2009.000000         6.000000      16.000000   \n",
       "75%    1.965012e+14     2009.000000         9.000000      23.000000   \n",
       "max    1.969912e+14     2010.000000        12.000000      31.000000   \n",
       "\n",
       "       clm_utlztn_day_cnt  at_physn_npi   clm_pmt_amt  sp_state_code_2008  \\\n",
       "count         5592.000000  5.542000e+03   5592.000000         5592.000000   \n",
       "mean             3.939735  5.053263e+09  11953.472818           26.076001   \n",
       "std              2.797995  2.930592e+09   5118.846799           14.808880   \n",
       "min              0.000000  3.213682e+06      0.000000            1.000000   \n",
       "25%              3.000000  2.482526e+09  10000.000000           13.000000   \n",
       "50%              3.000000  4.971603e+09  11000.000000           26.000000   \n",
       "75%              4.000000  7.708360e+09  13000.000000           38.000000   \n",
       "max             70.000000  9.999035e+09  57000.000000           54.000000   \n",
       "\n",
       "       bene_county_cd_2008  bene_death_dt_2008           ...            \\\n",
       "count          5592.000000        1.600000e+01           ...             \n",
       "mean            382.399320        2.008088e+07           ...             \n",
       "std             271.456317        2.620433e+02           ...             \n",
       "min               0.000000        2.008050e+07           ...             \n",
       "25%             150.000000        2.008060e+07           ...             \n",
       "50%             340.000000        2.008090e+07           ...             \n",
       "75%             580.000000        2.008110e+07           ...             \n",
       "max             999.000000        2.008120e+07           ...             \n",
       "\n",
       "       benres_op_2010  pppymt_op_2010  medreimb_car_2010  benres_car_2010  \\\n",
       "count     5520.000000     5520.000000        5520.000000      5520.000000   \n",
       "mean       190.641304       21.452899        1498.173913       425.266304   \n",
       "std        366.423914      340.304093        1123.097178       325.589548   \n",
       "min          0.000000        0.000000           0.000000         0.000000   \n",
       "25%          0.000000        0.000000         650.000000       180.000000   \n",
       "50%         30.000000        0.000000        1280.000000       360.000000   \n",
       "75%        220.000000        0.000000        2150.000000       620.000000   \n",
       "max       5520.000000    14000.000000        7630.000000      2110.000000   \n",
       "\n",
       "       pppymt_car_2010  chronic_condition_count_2010  death_month  \\\n",
       "count      5520.000000                   5520.000000   154.000000   \n",
       "mean         23.121377                      7.837500     6.857143   \n",
       "std          87.611621                      2.092586     3.189912   \n",
       "min           0.000000                      1.000000     1.000000   \n",
       "25%           0.000000                      6.000000     4.250000   \n",
       "50%           0.000000                      8.000000     7.000000   \n",
       "75%           0.000000                      9.000000     9.000000   \n",
       "max        1200.000000                     11.000000    12.000000   \n",
       "\n",
       "        death_year  death_day  death_before_claim_ind  \n",
       "count   154.000000      154.0                  5592.0  \n",
       "mean   2009.428571        1.0                     0.0  \n",
       "std       0.675018        0.0                     0.0  \n",
       "min    2008.000000        1.0                     0.0  \n",
       "25%    2009.000000        1.0                     0.0  \n",
       "50%    2010.000000        1.0                     0.0  \n",
       "75%    2010.000000        1.0                     0.0  \n",
       "max    2010.000000        1.0                     0.0  \n",
       "\n",
       "[8 rows x 62 columns]"
      ]
     },
     "execution_count": 6,
     "metadata": {},
     "output_type": "execute_result"
    }
   ],
   "source": [
    "model_df.describe()"
   ]
  },
  {
   "cell_type": "code",
   "execution_count": 7,
   "metadata": {},
   "outputs": [
    {
     "data": {
      "text/plain": [
       "<matplotlib.axes._subplots.AxesSubplot at 0x24417a562b0>"
      ]
     },
     "execution_count": 7,
     "metadata": {},
     "output_type": "execute_result"
    },
    {
     "data": {
      "image/png": "[encoded data removed]",
      "text/plain": [
       "<Figure size 432x288 with 2 Axes>"
      ]
     },
     "metadata": {},
     "output_type": "display_data"
    }
   ],
   "source": [
    "sns.heatmap(model_df.isnull(),cmap = 'viridis')"
   ]
  },
  {
   "cell_type": "code",
   "execution_count": 8,
   "metadata": {},
   "outputs": [
    {
     "name": "stdout",
     "output_type": "stream",
     "text": [
      "Index(['clm_id', 'desynpuf_id', 'sample_number', 'clm_start_year',\n",
      "       'clm_start_month', 'clm_start_day', 'clm_from_datetime',\n",
      "       'clm_utlztn_day_cnt', 'clm_utlztn_day_cnt_grouped', 'prvdr_num',\n",
      "       'prvdr_num_grp', 'at_physn_npi', 'clm_drg_cd', 'clm_drg_cd_grp',\n",
      "       'clm_pmt_amt', 'collapsed_icd9_dgns', 'collapsed_icd9_pcrdr',\n",
      "       'collapsed_hcpcs_cd', 'collapsed_physn_npi',\n",
      "       'collapsed_icd9_dgns_group', 'collapsed_icd9_prcdr_group',\n",
      "       'bene_birth_dt', 'bene_sex_ident_cd', 'bene_race_cd',\n",
      "       'sp_state_code_2008', 'bene_county_cd_2008', 'bene_death_dt_2008',\n",
      "       'bene_esrd_ind_2008', 'bene_hi_cvrage_tot_mons_2008',\n",
      "       'bene_smi_cvrage_tot_mons_2008', 'bene_hmo_cvrage_tot_mons_2008',\n",
      "       'plan_cvrg_mos_num_2008', 'medreimb_ip_2008', 'benres_ip_2008',\n",
      "       'pppymt_ip_2008', 'medreimb_op_2008', 'benres_op_2008',\n",
      "       'pppymt_op_2008', 'medreimb_car_2008', 'benres_car_2008',\n",
      "       'pppymt_car_2008', 'chronic_condition_count_2008', 'sp_state_code_2009',\n",
      "       'bene_county_cd_2009', 'bene_death_dt_2009', 'bene_esrd_ind_2009',\n",
      "       'bene_hi_cvrage_tot_mons_2009', 'bene_smi_cvrage_tot_mons_2009',\n",
      "       'bene_hmo_cvrage_tot_mons_2009', 'plan_cvrg_mos_num_2009',\n",
      "       'medreimb_ip_2009', 'benres_ip_2009', 'pppymt_ip_2009',\n",
      "       'medreimb_op_2009', 'benres_op_2009', 'pppymt_op_2009',\n",
      "       'medreimb_car_2009', 'benres_car_2009', 'pppymt_car_2009',\n",
      "       'chronic_condition_count_2009', 'sp_state_code_2010',\n",
      "       'bene_county_cd_2010', 'bene_death_dt_2010', 'bene_esrd_ind_2010',\n",
      "       'bene_hi_cvrage_tot_mons_2010', 'bene_smi_cvrage_tot_mons_2010',\n",
      "       'bene_hmo_cvrage_tot_mons_2010', 'plan_cvrg_mos_num_2010',\n",
      "       'medreimb_ip_2010', 'benres_ip_2010', 'pppymt_ip_2010',\n",
      "       'medreimb_op_2010', 'benres_op_2010', 'pppymt_op_2010',\n",
      "       'medreimb_car_2010', 'benres_car_2010', 'pppymt_car_2010',\n",
      "       'chronic_condition_count_2010', 'collapsed_states',\n",
      "       'collapsed_counties', 'death_date', 'death_month', 'death_year',\n",
      "       'death_day', 'death_before_claim_ind'],\n",
      "      dtype='object')\n"
     ]
    }
   ],
   "source": [
    "print(model_df.columns)\n",
    "\n",
    "cluster_cat_cols = ['bene_sex_ident_cd',\n",
    "                    'bene_race_cd',\n",
    "                    'clm_start_year',\n",
    "                    'clm_start_month',\n",
    "                    'clm_utlztn_day_cnt_grouped',\n",
    "                    'bene_esrd_ind_2008', \n",
    "                    'bene_esrd_ind_2009',\n",
    "                    'bene_esrd_ind_2010'\n",
    "                    #,'death_year'\n",
    "                   ] # cat\n",
    "\n",
    "state_county_cols = ['collapsed_states', # cat\n",
    "                     'collapsed_counties']\n",
    "\n",
    "\n",
    "cluster_num_cols = [ \n",
    "                'clm_pmt_amt', \n",
    "                'bene_hi_cvrage_tot_mons_2008', \n",
    "                'bene_smi_cvrage_tot_mons_2008', \n",
    "                'bene_hmo_cvrage_tot_mons_2008',\n",
    "                'plan_cvrg_mos_num_2008', \n",
    "                'medreimb_ip_2008', \n",
    "                'benres_ip_2008',\n",
    "                'pppymt_ip_2008', \n",
    "                'medreimb_op_2008', \n",
    "                'benres_op_2008',\n",
    "                'pppymt_op_2008', \n",
    "                'medreimb_car_2008', \n",
    "                'benres_car_2008',\n",
    "                'pppymt_car_2008', \n",
    "                'chronic_condition_count_2008', \n",
    "                'bene_hi_cvrage_tot_mons_2009', \n",
    "                'bene_smi_cvrage_tot_mons_2009',\n",
    "                'bene_hmo_cvrage_tot_mons_2009', \n",
    "                'plan_cvrg_mos_num_2009',\n",
    "                'medreimb_ip_2009', \n",
    "                'benres_ip_2009', \n",
    "                'pppymt_ip_2009',\n",
    "                'medreimb_op_2009', \n",
    "                'benres_op_2009', \n",
    "                'pppymt_op_2009',\n",
    "                'medreimb_car_2009', \n",
    "                'benres_car_2009', \n",
    "                'pppymt_car_2009',\n",
    "                'chronic_condition_count_2009', \n",
    "                'bene_hi_cvrage_tot_mons_2010', \n",
    "                'bene_smi_cvrage_tot_mons_2010',\n",
    "                'bene_hmo_cvrage_tot_mons_2010', \n",
    "                'plan_cvrg_mos_num_2010',\n",
    "                'medreimb_ip_2010', \n",
    "                'benres_ip_2010', \n",
    "                'pppymt_ip_2010',\n",
    "                'medreimb_op_2010', \n",
    "                'benres_op_2010', \n",
    "                'pppymt_op_2010',\n",
    "                'medreimb_car_2010', \n",
    "                'benres_car_2010', \n",
    "                'pppymt_car_2010',\n",
    "                'chronic_condition_count_2010',\n",
    "#                 'death_ind_2008', \n",
    "#                 'death_ind_2009',\n",
    "#                 'death_ind_2010'\n",
    "                ]\n",
    "\n",
    "cluster_cols_to_expand = [#'collapsed_icd9_dgns_group',\n",
    "                          'clm_drg_cd',\n",
    "                          'collapsed_icd9_prcdr_group',\n",
    "                          #'collapsed_physn_npi'\n",
    "                         ]"
   ]
  },
  {
   "cell_type": "code",
   "execution_count": 9,
   "metadata": {},
   "outputs": [
    {
     "name": "stdout",
     "output_type": "stream",
     "text": [
      "(5592, 85)\n",
      "(5592, 57)\n",
      "(5520, 57)\n",
      "RangeIndex(start=0, stop=5520, step=1)\n"
     ]
    },
    {
     "data": {
      "text/html": [
       "<div>\n",
       "<style scoped>\n",
       "    .dataframe tbody tr th:only-of-type {\n",
       "        vertical-align: middle;\n",
       "    }\n",
       "\n",
       "    .dataframe tbody tr th {\n",
       "        vertical-align: top;\n",
       "    }\n",
       "\n",
       "    .dataframe thead th {\n",
       "        text-align: right;\n",
       "    }\n",
       "</style>\n",
       "<table border=\"1\" class=\"dataframe\">\n",
       "  <thead>\n",
       "    <tr style=\"text-align: right;\">\n",
       "      <th></th>\n",
       "      <th>bene_sex_ident_cd</th>\n",
       "      <th>bene_race_cd</th>\n",
       "      <th>clm_start_year</th>\n",
       "      <th>clm_start_month</th>\n",
       "      <th>clm_utlztn_day_cnt_grouped</th>\n",
       "      <th>bene_esrd_ind_2008</th>\n",
       "      <th>bene_esrd_ind_2009</th>\n",
       "      <th>bene_esrd_ind_2010</th>\n",
       "      <th>clm_pmt_amt</th>\n",
       "      <th>bene_hi_cvrage_tot_mons_2008</th>\n",
       "      <th>...</th>\n",
       "      <th>medreimb_car_2010</th>\n",
       "      <th>benres_car_2010</th>\n",
       "      <th>pppymt_car_2010</th>\n",
       "      <th>chronic_condition_count_2010</th>\n",
       "      <th>clm_drg_cd</th>\n",
       "      <th>collapsed_icd9_prcdr_group</th>\n",
       "      <th>collapsed_states</th>\n",
       "      <th>collapsed_counties</th>\n",
       "      <th>collapsed_physn_npi</th>\n",
       "      <th>prvdr_num</th>\n",
       "    </tr>\n",
       "  </thead>\n",
       "  <tbody>\n",
       "    <tr>\n",
       "      <th>0</th>\n",
       "      <td>2</td>\n",
       "      <td>1</td>\n",
       "      <td>2008</td>\n",
       "      <td>7</td>\n",
       "      <td>4-7 days</td>\n",
       "      <td>0</td>\n",
       "      <td>0</td>\n",
       "      <td>0</td>\n",
       "      <td>10000.0</td>\n",
       "      <td>12</td>\n",
       "      <td>...</td>\n",
       "      <td>2270.0</td>\n",
       "      <td>520.0</td>\n",
       "      <td>0.0</td>\n",
       "      <td>4.0</td>\n",
       "      <td>510</td>\n",
       "      <td>815</td>\n",
       "      <td>5.0</td>\n",
       "      <td>660.0</td>\n",
       "      <td>0520ZS</td>\n",
       "      <td>5739551552.0 6610066590.0</td>\n",
       "    </tr>\n",
       "    <tr>\n",
       "      <th>1</th>\n",
       "      <td>2</td>\n",
       "      <td>1</td>\n",
       "      <td>2009</td>\n",
       "      <td>7</td>\n",
       "      <td>0-3 days</td>\n",
       "      <td>0</td>\n",
       "      <td>0</td>\n",
       "      <td>0</td>\n",
       "      <td>19000.0</td>\n",
       "      <td>12</td>\n",
       "      <td>...</td>\n",
       "      <td>3340.0</td>\n",
       "      <td>930.0</td>\n",
       "      <td>40.0</td>\n",
       "      <td>7.0</td>\n",
       "      <td>500</td>\n",
       "      <td>815</td>\n",
       "      <td>44.0</td>\n",
       "      <td>180.0</td>\n",
       "      <td>4402KJ</td>\n",
       "      <td>2405294311.0</td>\n",
       "    </tr>\n",
       "    <tr>\n",
       "      <th>2</th>\n",
       "      <td>1</td>\n",
       "      <td>1</td>\n",
       "      <td>2010</td>\n",
       "      <td>1</td>\n",
       "      <td>4-7 days</td>\n",
       "      <td>0</td>\n",
       "      <td>0</td>\n",
       "      <td>0</td>\n",
       "      <td>12000.0</td>\n",
       "      <td>12</td>\n",
       "      <td>...</td>\n",
       "      <td>2310.0</td>\n",
       "      <td>350.0</td>\n",
       "      <td>0.0</td>\n",
       "      <td>7.0</td>\n",
       "      <td>466</td>\n",
       "      <td>041 815</td>\n",
       "      <td>45.0</td>\n",
       "      <td>390.0</td>\n",
       "      <td>45076B</td>\n",
       "      <td>4037882287.0</td>\n",
       "    </tr>\n",
       "    <tr>\n",
       "      <th>3</th>\n",
       "      <td>1</td>\n",
       "      <td>1</td>\n",
       "      <td>2010</td>\n",
       "      <td>6</td>\n",
       "      <td>4-7 days</td>\n",
       "      <td>0</td>\n",
       "      <td>0</td>\n",
       "      <td>0</td>\n",
       "      <td>12000.0</td>\n",
       "      <td>12</td>\n",
       "      <td>...</td>\n",
       "      <td>990.0</td>\n",
       "      <td>280.0</td>\n",
       "      <td>0.0</td>\n",
       "      <td>8.0</td>\n",
       "      <td>500</td>\n",
       "      <td>815</td>\n",
       "      <td>38.0</td>\n",
       "      <td>250.0</td>\n",
       "      <td>3800BU</td>\n",
       "      <td>2950647400.0 1503449008.0</td>\n",
       "    </tr>\n",
       "    <tr>\n",
       "      <th>4</th>\n",
       "      <td>1</td>\n",
       "      <td>1</td>\n",
       "      <td>2010</td>\n",
       "      <td>2</td>\n",
       "      <td>0-3 days</td>\n",
       "      <td>0</td>\n",
       "      <td>Y</td>\n",
       "      <td>0</td>\n",
       "      <td>12000.0</td>\n",
       "      <td>12</td>\n",
       "      <td>...</td>\n",
       "      <td>720.0</td>\n",
       "      <td>130.0</td>\n",
       "      <td>0.0</td>\n",
       "      <td>8.0</td>\n",
       "      <td>475</td>\n",
       "      <td>815</td>\n",
       "      <td>4.0</td>\n",
       "      <td>110.0</td>\n",
       "      <td>0400AC</td>\n",
       "      <td>7707560070.0 1949223467.0</td>\n",
       "    </tr>\n",
       "  </tbody>\n",
       "</table>\n",
       "<p>5 rows × 57 columns</p>\n",
       "</div>"
      ],
      "text/plain": [
       "  bene_sex_ident_cd bene_race_cd  clm_start_year  clm_start_month  \\\n",
       "0                 2            1            2008                7   \n",
       "1                 2            1            2009                7   \n",
       "2                 1            1            2010                1   \n",
       "3                 1            1            2010                6   \n",
       "4                 1            1            2010                2   \n",
       "\n",
       "  clm_utlztn_day_cnt_grouped bene_esrd_ind_2008 bene_esrd_ind_2009  \\\n",
       "0                   4-7 days                  0                  0   \n",
       "1                   0-3 days                  0                  0   \n",
       "2                   4-7 days                  0                  0   \n",
       "3                   4-7 days                  0                  0   \n",
       "4                   0-3 days                  0                  Y   \n",
       "\n",
       "  bene_esrd_ind_2010  clm_pmt_amt  bene_hi_cvrage_tot_mons_2008  \\\n",
       "0                  0      10000.0                            12   \n",
       "1                  0      19000.0                            12   \n",
       "2                  0      12000.0                            12   \n",
       "3                  0      12000.0                            12   \n",
       "4                  0      12000.0                            12   \n",
       "\n",
       "             ...              medreimb_car_2010  benres_car_2010  \\\n",
       "0            ...                         2270.0            520.0   \n",
       "1            ...                         3340.0            930.0   \n",
       "2            ...                         2310.0            350.0   \n",
       "3            ...                          990.0            280.0   \n",
       "4            ...                          720.0            130.0   \n",
       "\n",
       "   pppymt_car_2010  chronic_condition_count_2010  clm_drg_cd  \\\n",
       "0              0.0                           4.0         510   \n",
       "1             40.0                           7.0         500   \n",
       "2              0.0                           7.0         466   \n",
       "3              0.0                           8.0         500   \n",
       "4              0.0                           8.0         475   \n",
       "\n",
       "   collapsed_icd9_prcdr_group  collapsed_states  collapsed_counties  \\\n",
       "0                         815               5.0               660.0   \n",
       "1                         815              44.0               180.0   \n",
       "2                     041 815              45.0               390.0   \n",
       "3                         815              38.0               250.0   \n",
       "4                         815               4.0               110.0   \n",
       "\n",
       "   collapsed_physn_npi                  prvdr_num  \n",
       "0               0520ZS  5739551552.0 6610066590.0  \n",
       "1               4402KJ               2405294311.0  \n",
       "2               45076B               4037882287.0  \n",
       "3               3800BU  2950647400.0 1503449008.0  \n",
       "4               0400AC  7707560070.0 1949223467.0  \n",
       "\n",
       "[5 rows x 57 columns]"
      ]
     },
     "execution_count": 9,
     "metadata": {},
     "output_type": "execute_result"
    }
   ],
   "source": [
    "print(model_df.shape)\n",
    "npi_col = model_df['collapsed_physn_npi']\n",
    "prvdr_col = model_df['prvdr_num']\n",
    "model_df = model_df[(cluster_cat_cols + cluster_num_cols + cluster_cols_to_expand + state_county_cols)]\n",
    "model_df['collapsed_physn_npi'] = prvdr_col\n",
    "model_df['prvdr_num'] = npi_col\n",
    "print(model_df.shape)\n",
    "model_df.dropna(inplace = True)\n",
    "print(model_df.shape)\n",
    "model_df.index = range(0,5520)\n",
    "print(model_df.index)\n",
    "model_df.head()"
   ]
  },
  {
   "cell_type": "code",
   "execution_count": 10,
   "metadata": {},
   "outputs": [
    {
     "data": {
      "text/plain": [
       "(5520, 57)"
      ]
     },
     "execution_count": 10,
     "metadata": {},
     "output_type": "execute_result"
    }
   ],
   "source": [
    "model_df.shape"
   ]
  },
  {
   "cell_type": "code",
   "execution_count": 11,
   "metadata": {},
   "outputs": [
    {
     "name": "stdout",
     "output_type": "stream",
     "text": [
      "clm_drg_cd added features: 127\n",
      "collapsed_icd9_prcdr_group added features: 304\n",
      "X_pcdr_dgns (5520, 431)\n",
      "X_pcdr_dgns index RangeIndex(start=0, stop=5520, step=1)\n",
      "X_state_county (5520, 245)\n",
      "X_state_county index RangeIndex(start=0, stop=5520, step=1)\n",
      "X_cat_columns (5520, 11)\n",
      "X_cat_columns index RangeIndex(start=0, stop=5520, step=1)\n",
      "collapsed_physn_npi added features: 118\n",
      "X_npi_prvdr (5520, 3602)\n",
      "Wall time: 550 ms\n"
     ]
    }
   ],
   "source": [
    "%%time\n",
    "# setup PCA X matrix for procedure and diagnosis codes\n",
    "vec = CountVectorizer(min_df = 1, binary = True)\n",
    "X_pcdr_dgns = pd.DataFrame()\n",
    "for clst in cluster_cols_to_expand:\n",
    "    x_temp = vec.fit_transform(model_df.loc[:,clst])\n",
    "    print(clst, 'added features:', len(vec.get_feature_names()))\n",
    "    x_temp = pd.DataFrame(x_temp.toarray())\n",
    "    x_temp.columns = vec.get_feature_names()\n",
    "    #print(vec.get_feature_names()[1:10])\n",
    "    X_pcdr_dgns = pd.concat([X_pcdr_dgns, x_temp], axis=1)\n",
    "print('X_pcdr_dgns', X_pcdr_dgns.shape)\n",
    "print('X_pcdr_dgns index', X_pcdr_dgns.index)\n",
    "filename = pickle_folder + 'X_pcdr_dgns.pickle'\n",
    "pickle.dump(X_pcdr_dgns, open(filename,'wb'))\n",
    "\n",
    "\n",
    "# setup PCA X matrix for state and county\n",
    "X_state_county = pd.get_dummies(data = model_df[state_county_cols], \n",
    "                               drop_first = True)\n",
    "print('X_state_county', X_state_county.shape)\n",
    "print('X_state_county index', X_state_county.index)\n",
    "filename = pickle_folder + 'X_state_county.pickle'\n",
    "pickle.dump(X_state_county, open(filename,'wb'))\n",
    "\n",
    "\n",
    "# setup PCA X matrix for cat columns\n",
    "X_cat_columns = pd.get_dummies(data = model_df[cluster_cat_cols],\n",
    "                              drop_first = True)\n",
    "print('X_cat_columns', X_cat_columns.shape)\n",
    "print('X_cat_columns index', X_cat_columns.index)\n",
    "filename = pickle_folder + 'X_cat_columns.pickle'\n",
    "pickle.dump(X_cat_columns, open(filename,'wb'))\n",
    "\n",
    "\n",
    "# setup PCA X matrix for npi\n",
    "vec = CountVectorizer(min_df = 10, binary = True)\n",
    "X_npi_prvdr = vec.fit_transform(model_df['collapsed_physn_npi'])\n",
    "print('collapsed_physn_npi added features:', len(vec.get_feature_names()))\n",
    "X_npi_prvdr = pd.DataFrame(X_npi_prvdr.toarray())\n",
    "X_npi_prvdr.columns = vec.get_feature_names()\n",
    "#print(vec.get_feature_names()[1:10])\n",
    "X_npi_prvdr = pd.concat([X_npi_prvdr, pd.get_dummies(data = model_df['prvdr_num'],\n",
    "                                                         drop_first = True)], axis=1)\n",
    "print('X_npi_prvdr', X_npi_prvdr.shape)\n",
    "filename = pickle_folder + 'X_npi_prvdr.pickle'\n",
    "pickle.dump(X_npi_prvdr, open(filename,'wb'))"
   ]
  },
  {
   "cell_type": "code",
   "execution_count": 12,
   "metadata": {},
   "outputs": [],
   "source": [
    "# def fit_minibatch_sparse_pca(n_comp, rand_nb, X_mat):\n",
    "#     # execute sparse pca\n",
    "#     t = SparsePCA(n_components = n_comp, alpha = .5, # controls sparsity\n",
    "#                   normalize_components = True, \n",
    "#                   random_state = rand_nb, njobs = -1)\n",
    "#     t.fit(X_mat)\n",
    "#     X_trans = t.transform(X_mat)\n",
    "#     print(X_trans.shape)\n",
    "#     print(np.mean(t.components_ == 0))\n",
    "#     return X_trans"
   ]
  },
  {
   "cell_type": "code",
   "execution_count": 13,
   "metadata": {},
   "outputs": [],
   "source": [
    "def fit_sparse_pca(n_comp, rand_nb, alph, X_mat):\n",
    "    # execute sparse pca\n",
    "    t = SparsePCA(n_components = n_comp, alpha = alph, # controls sparsity\n",
    "                  normalize_components = True, \n",
    "                  random_state = rand_nb, n_jobs = -1)\n",
    "    X_trans = t.fit_transform(X_mat)\n",
    "    print(X_trans.shape)\n",
    "    print(np.mean(t.components_ == 0))\n",
    "    return X_trans"
   ]
  },
  {
   "cell_type": "code",
   "execution_count": 22,
   "metadata": {},
   "outputs": [],
   "source": [
    "def fit_pca(n_comp, rand_nb, X_mat):\n",
    "    # execute sparse pca\n",
    "    t = PCA(n_components = n_comp, random_state= rand_nb)\n",
    "    X_trans = t.fit_transform(X_mat)\n",
    "    print(t.explained_variance_ratio_.cumsum()[:(n_comp + 1)])\n",
    "    print(X_trans.shape)\n",
    "    print(np.mean(t.components_ == 0))\n",
    "    return X_trans"
   ]
  },
  {
   "cell_type": "code",
   "execution_count": 23,
   "metadata": {},
   "outputs": [],
   "source": [
    "mat_dict = dict({'num_cols': model_df[cluster_num_cols],\n",
    "                 'npi_prvdr' : X_npi_prvdr, \n",
    "                 'cat' : X_cat_columns, \n",
    "                 'state_county': X_state_county, \n",
    "                 'prcdr_dgns': X_pcdr_dgns,\n",
    "                 'cat_state_county': pd.concat([X_cat_columns, X_state_county], axis = 1),\n",
    "                 'all_x': pd.concat([X_cat_columns, X_state_county, X_pcdr_dgns], axis = 1), #X_npi_prvdr, \n",
    "                 'all_x_w_num': pd.concat([X_cat_columns, X_state_county, X_pcdr_dgns, model_df[cluster_num_cols]], axis = 1) #X_npi_prvdr, \n",
    "                 })     "
   ]
  },
  {
   "cell_type": "code",
   "execution_count": 24,
   "metadata": {},
   "outputs": [
    {
     "name": "stdout",
     "output_type": "stream",
     "text": [
      "num_cols start ***************************\n",
      "25\n",
      "[0.15354938 0.2228035  0.28072857 0.33495536 0.38365125 0.42895453\n",
      " 0.46627694 0.50186177 0.5330031  0.56052109 0.58525716 0.60947615\n",
      " 0.63322453 0.65663894 0.67974094 0.70251501 0.72507462 0.747507\n",
      " 0.76935743 0.79085278 0.8120831  0.8317589  0.85052211 0.86750459\n",
      " 0.88279249]\n",
      "(5520, 25)\n",
      "0.0\n",
      "04302019_pickle/num_cols_trans_pca.pickle\n"
     ]
    },
    {
     "name": "stderr",
     "output_type": "stream",
     "text": [
      "C:\\ProgramData\\Anaconda3\\lib\\site-packages\\sklearn\\preprocessing\\data.py:625: DataConversionWarning: Data with input dtype int64, float64 were all converted to float64 by StandardScaler.\n",
      "  return self.partial_fit(X, y)\n",
      "C:\\ProgramData\\Anaconda3\\lib\\site-packages\\sklearn\\base.py:462: DataConversionWarning: Data with input dtype int64, float64 were all converted to float64 by StandardScaler.\n",
      "  return self.fit(X, **fit_params).transform(X)\n"
     ]
    },
    {
     "data": {
      "image/png": "[encoded data removed]",
      "text/plain": [
       "<Figure size 432x288 with 1 Axes>"
      ]
     },
     "metadata": {},
     "output_type": "display_data"
    },
    {
     "name": "stdout",
     "output_type": "stream",
     "text": [
      "npi_prvdr start ***************************\n",
      "100\n"
     ]
    },
    {
     "name": "stderr",
     "output_type": "stream",
     "text": [
      "C:\\ProgramData\\Anaconda3\\lib\\site-packages\\sklearn\\preprocessing\\data.py:625: DataConversionWarning: Data with input dtype uint8, int64 were all converted to float64 by StandardScaler.\n",
      "  return self.partial_fit(X, y)\n",
      "C:\\ProgramData\\Anaconda3\\lib\\site-packages\\sklearn\\base.py:462: DataConversionWarning: Data with input dtype uint8, int64 were all converted to float64 by StandardScaler.\n",
      "  return self.fit(X, **fit_params).transform(X)\n"
     ]
    },
    {
     "name": "stdout",
     "output_type": "stream",
     "text": [
      "[0.00055944 0.00111738 0.00167469 0.00223176 0.00278879 0.00334573\n",
      " 0.00390259 0.00445941 0.00501617 0.0055729  0.00612956 0.0066861\n",
      " 0.00724263 0.00779914 0.00835558 0.00891201 0.00946841 0.01002477\n",
      " 0.01058112 0.01113746 0.01169375 0.01225004 0.01280627 0.0133625\n",
      " 0.01391868 0.01447483 0.01503096 0.01558709 0.01614319 0.01669927\n",
      " 0.01725535 0.01781139 0.0183674  0.01892341 0.01947939 0.02003535\n",
      " 0.0205913  0.02114722 0.02170313 0.02225903 0.02281492 0.02337079\n",
      " 0.02392664 0.02448248 0.02503831 0.02559413 0.02614993 0.02670572\n",
      " 0.02726149 0.02781723 0.02837295 0.02892864 0.02948432 0.03003995\n",
      " 0.03059556 0.03115114 0.03170667 0.03226217 0.03281766 0.03337312\n",
      " 0.03392854 0.03448393 0.03503926 0.03559455 0.03614976 0.0367049\n",
      " 0.03725998 0.03781496 0.0383698  0.03892456 0.0394793  0.04003398\n",
      " 0.04058856 0.04114298 0.04169708 0.04225088 0.04280439 0.04335763\n",
      " 0.04391081 0.04446378 0.04501626 0.04556844 0.04612027 0.04667203\n",
      " 0.04722355 0.04777446 0.04832503 0.0488753  0.04942496 0.04997445\n",
      " 0.05052363 0.05107237 0.05162045 0.05216807 0.05271504 0.05326172\n",
      " 0.05380812 0.05435401 0.05489893 0.05544305]\n",
      "(5520, 100)\n",
      "0.0\n",
      "04302019_pickle/npi_prvdr_trans_pca.pickle\n"
     ]
    },
    {
     "data": {
      "image/png": "[encoded data removed]",
      "text/plain": [
       "<Figure size 432x288 with 1 Axes>"
      ]
     },
     "metadata": {},
     "output_type": "display_data"
    },
    {
     "name": "stdout",
     "output_type": "stream",
     "text": [
      "cat start ***************************\n",
      "10\n",
      "[0.12814407 0.23666358 0.33892225 0.435083   0.52821632 0.61812506\n",
      " 0.70156083 0.7833115  0.86209033 0.93330803]\n",
      "(5520, 10)\n",
      "0.0\n",
      "04302019_pickle/cat_trans_pca.pickle\n"
     ]
    },
    {
     "name": "stderr",
     "output_type": "stream",
     "text": [
      "C:\\ProgramData\\Anaconda3\\lib\\site-packages\\sklearn\\preprocessing\\data.py:625: DataConversionWarning: Data with input dtype uint8, int64 were all converted to float64 by StandardScaler.\n",
      "  return self.partial_fit(X, y)\n",
      "C:\\ProgramData\\Anaconda3\\lib\\site-packages\\sklearn\\base.py:462: DataConversionWarning: Data with input dtype uint8, int64 were all converted to float64 by StandardScaler.\n",
      "  return self.fit(X, **fit_params).transform(X)\n"
     ]
    },
    {
     "data": {
      "image/png": "[encoded data removed]",
      "text/plain": [
       "<Figure size 432x288 with 1 Axes>"
      ]
     },
     "metadata": {},
     "output_type": "display_data"
    },
    {
     "name": "stdout",
     "output_type": "stream",
     "text": [
      "state_county start ***************************\n",
      "100\n"
     ]
    },
    {
     "name": "stderr",
     "output_type": "stream",
     "text": [
      "C:\\ProgramData\\Anaconda3\\lib\\site-packages\\sklearn\\preprocessing\\data.py:625: DataConversionWarning: Data with input dtype uint8 were all converted to float64 by StandardScaler.\n",
      "  return self.partial_fit(X, y)\n",
      "C:\\ProgramData\\Anaconda3\\lib\\site-packages\\sklearn\\base.py:462: DataConversionWarning: Data with input dtype uint8 were all converted to float64 by StandardScaler.\n",
      "  return self.fit(X, **fit_params).transform(X)\n"
     ]
    },
    {
     "name": "stdout",
     "output_type": "stream",
     "text": [
      "[0.00714452 0.01411957 0.02094749 0.0275907  0.03414005 0.04060068\n",
      " 0.04688752 0.05309043 0.05924316 0.06533899 0.07135888 0.07730125\n",
      " 0.08318233 0.08900616 0.0947989  0.10057799 0.10623811 0.11186092\n",
      " 0.11743471 0.12294475 0.12834372 0.13367239 0.13896619 0.14423202\n",
      " 0.14944132 0.15461466 0.15978096 0.16489937 0.16992298 0.17491281\n",
      " 0.17981081 0.1846758  0.18947419 0.19423705 0.19899044 0.20366104\n",
      " 0.20831886 0.21294477 0.21750378 0.22204271 0.22655191 0.23101565\n",
      " 0.23542759 0.2397979  0.24413601 0.24842258 0.25262105 0.25678857\n",
      " 0.26092169 0.26504232 0.26915815 0.27327059 0.27738092 0.28148827\n",
      " 0.28559374 0.28969782 0.29380056 0.29790253 0.30200407 0.30610444\n",
      " 0.31020457 0.31430375 0.31840184 0.32249899 0.32659494 0.33069063\n",
      " 0.3347837  0.33887624 0.34296784 0.34705856 0.35114895 0.3552381\n",
      " 0.35932671 0.36341456 0.36750187 0.37158844 0.37567432 0.37975945\n",
      " 0.38384424 0.38792827 0.3920115  0.39609356 0.4001744  0.40425413\n",
      " 0.40833375 0.41240982 0.41648504 0.42055818 0.42462514 0.42868853\n",
      " 0.43275068 0.43681056 0.44086298 0.44491224 0.44895717 0.4529989\n",
      " 0.45703377 0.46106572 0.46509289 0.46911783]\n",
      "(5520, 100)\n",
      "0.0\n",
      "04302019_pickle/state_county_trans_pca.pickle\n"
     ]
    },
    {
     "data": {
      "image/png": "[encoded data removed]",
      "text/plain": [
       "<Figure size 432x288 with 1 Axes>"
      ]
     },
     "metadata": {},
     "output_type": "display_data"
    },
    {
     "name": "stdout",
     "output_type": "stream",
     "text": [
      "prcdr_dgns start ***************************\n",
      "100\n"
     ]
    },
    {
     "name": "stderr",
     "output_type": "stream",
     "text": [
      "C:\\ProgramData\\Anaconda3\\lib\\site-packages\\sklearn\\preprocessing\\data.py:625: DataConversionWarning: Data with input dtype int64 were all converted to float64 by StandardScaler.\n",
      "  return self.partial_fit(X, y)\n",
      "C:\\ProgramData\\Anaconda3\\lib\\site-packages\\sklearn\\base.py:462: DataConversionWarning: Data with input dtype int64 were all converted to float64 by StandardScaler.\n",
      "  return self.fit(X, **fit_params).transform(X)\n"
     ]
    },
    {
     "name": "stdout",
     "output_type": "stream",
     "text": [
      "[0.0086027  0.01684016 0.02412661 0.03133014 0.03715577 0.04222746\n",
      " 0.04724414 0.05214914 0.05699955 0.06180501 0.06652401 0.07102002\n",
      " 0.07537747 0.07968006 0.08389241 0.08806118 0.0921809  0.09627252\n",
      " 0.1003448  0.1043804  0.1084015  0.11232764 0.11617765 0.11999741\n",
      " 0.12379861 0.12755624 0.13127788 0.13499329 0.13865494 0.14226875\n",
      " 0.14585795 0.1494002  0.1529073  0.15639673 0.15987751 0.16335523\n",
      " 0.16677984 0.17013988 0.1734844  0.17681758 0.18014692 0.18344139\n",
      " 0.18669555 0.18993614 0.19315155 0.19636218 0.19956129 0.20272274\n",
      " 0.20585969 0.20898218 0.21209632 0.21518147 0.21823603 0.22127998\n",
      " 0.22432105 0.22734105 0.23035313 0.23335489 0.23634683 0.23932969\n",
      " 0.2423042  0.24524745 0.24817544 0.25108866 0.25398018 0.25686244\n",
      " 0.25972058 0.26257757 0.26543091 0.2682637  0.27109393 0.2739138\n",
      " 0.27672582 0.27953137 0.28232025 0.28508914 0.2878492  0.29060507\n",
      " 0.29334455 0.29607174 0.29879211 0.30150643 0.30421653 0.30691187\n",
      " 0.3095997  0.31227174 0.31492237 0.31756589 0.32019893 0.32281844\n",
      " 0.32543383 0.32803652 0.33063409 0.33321427 0.33577967 0.3383355\n",
      " 0.3408825  0.34341367 0.34594266 0.34844798]\n",
      "(5520, 100)\n",
      "0.002320185614849188\n",
      "04302019_pickle/prcdr_dgns_trans_pca.pickle\n"
     ]
    },
    {
     "data": {
      "image/png": "[encoded data removed]",
      "text/plain": [
       "<Figure size 432x288 with 1 Axes>"
      ]
     },
     "metadata": {},
     "output_type": "display_data"
    },
    {
     "name": "stdout",
     "output_type": "stream",
     "text": [
      "cat_state_county start ***************************\n",
      "100\n"
     ]
    },
    {
     "name": "stderr",
     "output_type": "stream",
     "text": [
      "C:\\ProgramData\\Anaconda3\\lib\\site-packages\\sklearn\\preprocessing\\data.py:625: DataConversionWarning: Data with input dtype uint8, int64 were all converted to float64 by StandardScaler.\n",
      "  return self.partial_fit(X, y)\n",
      "C:\\ProgramData\\Anaconda3\\lib\\site-packages\\sklearn\\base.py:462: DataConversionWarning: Data with input dtype uint8, int64 were all converted to float64 by StandardScaler.\n",
      "  return self.fit(X, **fit_params).transform(X)\n"
     ]
    },
    {
     "name": "stdout",
     "output_type": "stream",
     "text": [
      "[0.00692639 0.01372731 0.0204358  0.02697047 0.03334384 0.0396054\n",
      " 0.04569204 0.05172023 0.05764694 0.06357102 0.06938367 0.07515326\n",
      " 0.08089563 0.08658085 0.09219188 0.09779461 0.10333613 0.10880106\n",
      " 0.11422079 0.11957816 0.12488343 0.13008268 0.13524367 0.14036714\n",
      " 0.14548641 0.15055165 0.15558834 0.16059214 0.16555587 0.17045388\n",
      " 0.17525449 0.18003686 0.18477916 0.18950377 0.19419463 0.19883533\n",
      " 0.20343715 0.20801064 0.21256862 0.21708339 0.22155572 0.22598254\n",
      " 0.23037324 0.23470511 0.23899921 0.2432746  0.24753272 0.25177184\n",
      " 0.2559799  0.26014487 0.26425062 0.26834825 0.27242514 0.27648565\n",
      " 0.28051966 0.28452755 0.28850548 0.29248072 0.29642907 0.30036657\n",
      " 0.30429816 0.30822808 0.31215503 0.31607955 0.32000321 0.32392538\n",
      " 0.32784703 0.33176799 0.33568702 0.33960481 0.34352234 0.34743863\n",
      " 0.35135322 0.35526688 0.3591803  0.36309208 0.36700263 0.37091258\n",
      " 0.37482155 0.37872998 0.38263625 0.38654202 0.39044578 0.39434872\n",
      " 0.39825022 0.40214858 0.40604594 0.40994217 0.4138363  0.41772775\n",
      " 0.42161689 0.4255036  0.42938405 0.43326213 0.43713398 0.44100144\n",
      " 0.44486604 0.44872351 0.45257712 0.45642535]\n",
      "(5520, 100)\n",
      "0.0\n",
      "04302019_pickle/cat_state_county_trans_pca.pickle\n"
     ]
    },
    {
     "data": {
      "image/png": "[encoded data removed]",
      "text/plain": [
       "<Figure size 432x288 with 1 Axes>"
      ]
     },
     "metadata": {},
     "output_type": "display_data"
    },
    {
     "name": "stdout",
     "output_type": "stream",
     "text": [
      "all_x start ***************************\n",
      "100\n"
     ]
    },
    {
     "name": "stderr",
     "output_type": "stream",
     "text": [
      "C:\\ProgramData\\Anaconda3\\lib\\site-packages\\sklearn\\preprocessing\\data.py:625: DataConversionWarning: Data with input dtype uint8, int64 were all converted to float64 by StandardScaler.\n",
      "  return self.partial_fit(X, y)\n",
      "C:\\ProgramData\\Anaconda3\\lib\\site-packages\\sklearn\\base.py:462: DataConversionWarning: Data with input dtype uint8, int64 were all converted to float64 by StandardScaler.\n",
      "  return self.fit(X, **fit_params).transform(X)\n"
     ]
    },
    {
     "name": "stdout",
     "output_type": "stream",
     "text": [
      "[0.00553782 0.01081229 0.01545187 0.02001162 0.02371586 0.02717795\n",
      " 0.03059365 0.03382005 0.03699229 0.04010265 0.04314377 0.04611035\n",
      " 0.04906268 0.05196507 0.0548169  0.05763809 0.06045498 0.06323026\n",
      " 0.06598364 0.06873079 0.07146009 0.0741603  0.07683006 0.0794845\n",
      " 0.08212668 0.08476474 0.08737056 0.08996305 0.09254808 0.09508686\n",
      " 0.09761149 0.1001254  0.10261346 0.10509406 0.10755666 0.10998856\n",
      " 0.11241082 0.11482502 0.11723061 0.11963051 0.12201225 0.12438173\n",
      " 0.12674288 0.12909589 0.13143772 0.13376156 0.13606737 0.13836286\n",
      " 0.14064848 0.14292338 0.14518073 0.14742841 0.14966999 0.15190772\n",
      " 0.15412096 0.1563247  0.15852424 0.1607132  0.16289643 0.16506126\n",
      " 0.16721242 0.16936159 0.17150256 0.17363907 0.17575154 0.1778622\n",
      " 0.17996454 0.1820621  0.18415407 0.18623959 0.18831663 0.19038082\n",
      " 0.19243934 0.19449067 0.19653057 0.19856122 0.20058521 0.20259763\n",
      " 0.2046007  0.20659548 0.20858228 0.21055913 0.21252654 0.21448871\n",
      " 0.21644106 0.21839038 0.22032736 0.22225106 0.22416787 0.22607908\n",
      " 0.22798376 0.22988068 0.23177416 0.23364994 0.23551636 0.23738201\n",
      " 0.23923822 0.24108731 0.2429177  0.24474569]\n",
      "(5520, 100)\n",
      "0.001455604075691412\n",
      "04302019_pickle/all_x_trans_pca.pickle\n"
     ]
    },
    {
     "data": {
      "image/png": "[encoded data removed]",
      "text/plain": [
       "<Figure size 432x288 with 1 Axes>"
      ]
     },
     "metadata": {},
     "output_type": "display_data"
    },
    {
     "name": "stdout",
     "output_type": "stream",
     "text": [
      "all_x_w_num start ***************************\n",
      "100\n"
     ]
    },
    {
     "name": "stderr",
     "output_type": "stream",
     "text": [
      "C:\\ProgramData\\Anaconda3\\lib\\site-packages\\sklearn\\preprocessing\\data.py:625: DataConversionWarning: Data with input dtype uint8, int64, float64 were all converted to float64 by StandardScaler.\n",
      "  return self.partial_fit(X, y)\n",
      "C:\\ProgramData\\Anaconda3\\lib\\site-packages\\sklearn\\base.py:462: DataConversionWarning: Data with input dtype uint8, int64, float64 were all converted to float64 by StandardScaler.\n",
      "  return self.fit(X, **fit_params).transform(X)\n"
     ]
    },
    {
     "name": "stdout",
     "output_type": "stream",
     "text": [
      "[0.01002607 0.01524685 0.02027603 0.02477252 0.02913346 0.03344438\n",
      " 0.03766877 0.04128591 0.04481347 0.04821634 0.05150076 0.05469183\n",
      " 0.05786003 0.06088429 0.06386431 0.06679275 0.06964815 0.07245034\n",
      " 0.07522942 0.07796554 0.08064453 0.08330993 0.08595027 0.08857974\n",
      " 0.09118388 0.09377974 0.09635023 0.09891063 0.10145016 0.10397576\n",
      " 0.10647887 0.10896857 0.11144154 0.11386722 0.11629259 0.11870787\n",
      " 0.12110019 0.12347208 0.12582529 0.12816685 0.13048891 0.13279874\n",
      " 0.13508909 0.1373719  0.13964945 0.14190651 0.14415793 0.14638938\n",
      " 0.14861437 0.15082373 0.15302767 0.15522382 0.15740896 0.15957937\n",
      " 0.16174018 0.16388898 0.16603379 0.16816254 0.17028625 0.17239482\n",
      " 0.1744965  0.17659752 0.17868014 0.18075502 0.18282437 0.18488437\n",
      " 0.18693376 0.1889653  0.19098943 0.19300266 0.19500991 0.19700543\n",
      " 0.19898982 0.2009657  0.20293852 0.20490761 0.20686115 0.20880511\n",
      " 0.21074017 0.21267089 0.21459393 0.21650839 0.21841145 0.22031068\n",
      " 0.22219737 0.22406865 0.2259307  0.22778829 0.22964523 0.23148878\n",
      " 0.23332849 0.23516384 0.23699145 0.23880802 0.24062173 0.24242246\n",
      " 0.24421248 0.24599671 0.24776432 0.2495278 ]\n",
      "(5520, 100)\n",
      "0.0013698630136986301\n",
      "04302019_pickle/all_x_w_num_trans_pca.pickle\n"
     ]
    },
    {
     "data": {
      "image/png": "[encoded data removed]",
      "text/plain": [
       "<Figure size 432x288 with 1 Axes>"
      ]
     },
     "metadata": {},
     "output_type": "display_data"
    },
    {
     "name": "stdout",
     "output_type": "stream",
     "text": [
      "Wall time: 10.8 s\n"
     ]
    }
   ],
   "source": [
    "%%time\n",
    "models_pca = dict()\n",
    "for k in list(mat_dict.keys()):\n",
    "    if k in ['num_cols']:\n",
    "        n = 25\n",
    "    elif k in ['cat']:\n",
    "        n = 10\n",
    "    else:\n",
    "        n = 100\n",
    "    print(k + ' start ***************************')\n",
    "    print(n)\n",
    "    X = StandardScaler().fit_transform(mat_dict[k])\n",
    "    x_trans = fit_pca(n, 42, X) #\n",
    "    models_pca[k] = x_trans\n",
    "    filename = pickle_folder + k + '_trans_pca.pickle'\n",
    "    pickle.dump(x_trans, open(filename,'wb'))\n",
    "    print(filename)\n",
    "#     print(x_trans[:,0])\n",
    "#     print(x_trans[:,1])\n",
    "    plt.scatter(x = x_trans[:,0], y = x_trans[:,1])\n",
    "    plt.show()"
   ]
  },
  {
   "cell_type": "code",
   "execution_count": 25,
   "metadata": {},
   "outputs": [
    {
     "name": "stdout",
     "output_type": "stream",
     "text": [
      "(5520, 3)\n",
      "0.031007751937984496\n",
      "04302019_pickle/num_cols_trans_sparse_pca.pickle\n",
      "(5520, 3)\n",
      "0.9993522117342217\n",
      "04302019_pickle/npi_prvdr_trans_sparse_pca.pickle\n",
      "(5520, 3)\n",
      "0.5757575757575758\n",
      "04302019_pickle/cat_trans_sparse_pca.pickle\n",
      "(5520, 3)\n",
      "0.9142857142857143\n",
      "04302019_pickle/state_county_trans_sparse_pca.pickle\n",
      "(5520, 3)\n",
      "0.9945862335653519\n",
      "04302019_pickle/prcdr_dgns_trans_sparse_pca.pickle\n",
      "(5520, 3)\n",
      "0.97265625\n",
      "04302019_pickle/cat_state_county_trans_sparse_pca.pickle\n",
      "(5520, 3)\n",
      "0.9893255701115963\n",
      "04302019_pickle/all_x_trans_sparse_pca.pickle\n",
      "(5520, 3)\n",
      "0.9296803652968036\n",
      "04302019_pickle/all_x_w_num_trans_sparse_pca.pickle\n",
      "Wall time: 1min 2s\n"
     ]
    }
   ],
   "source": [
    "%%time\n",
    "models_sparse_pca = dict()\n",
    "for k in list(mat_dict.keys()):\n",
    "    x_trans = fit_sparse_pca(3, 42, .4, mat_dict[k])\n",
    "    models_sparse_pca[k] = x_trans\n",
    "    filename = pickle_folder + k + '_trans_sparse_pca.pickle'\n",
    "    pickle.dump(x_trans, open(filename,'wb'))\n",
    "    print(filename)"
   ]
  },
  {
   "cell_type": "code",
   "execution_count": 28,
   "metadata": {},
   "outputs": [],
   "source": [
    "filename = pickle_folder + 'cat_state_county_trans_pca.pickle'\n",
    "with open(filename, 'rb') as d:\n",
    "    cat_state_county_pca = pickle.load(d)\n",
    "    \n",
    "filename = pickle_folder + 'npi_prvdr_trans_pca.pickle'\n",
    "with open(filename, 'rb') as d:\n",
    "    npi_prvdr_pca = pickle.load(d)\n",
    "    \n",
    "filename = pickle_folder + 'all_x_trans_pca.pickle'\n",
    "with open(filename, 'rb') as d:\n",
    "    all_x_pca = pickle.load(d)\n",
    "    \n",
    "filename = pickle_folder + 'all_x_w_num_trans_pca.pickle'\n",
    "with open(filename, 'rb') as d:\n",
    "    all_x_w_num_pca = pickle.load(d) \n",
    "    \n",
    "    \n",
    "filename = pickle_folder + 'all_x_w_num_trans_sparse_pca.pickle'\n",
    "with open(filename, 'rb') as d:\n",
    "    all_x_w_num_trans_sparse_pca = pickle.load(d) "
   ]
  },
  {
   "cell_type": "code",
   "execution_count": 30,
   "metadata": {},
   "outputs": [],
   "source": [
    "# add some keys to the dict list\n",
    "mat_dict = dict({\n",
    "                'num_cols': model_df[cluster_num_cols],\n",
    "                 'npi_prvdr' : X_npi_prvdr, \n",
    "                 'cat' : X_cat_columns, \n",
    "                 'state_county': X_state_county, \n",
    "                 'prcdr_dgns': X_pcdr_dgns,\n",
    "                 'cat_state_county': pd.concat([X_cat_columns, X_state_county], axis = 1),\n",
    "                 'all_x': pd.concat([X_npi_prvdr, X_cat_columns, X_state_county, X_pcdr_dgns], axis = 1),\n",
    "                 'all_x_w_num': pd.concat([X_npi_prvdr, X_cat_columns, X_state_county, X_pcdr_dgns, model_df[cluster_num_cols]], axis = 1),\n",
    "                 'all_x_pca': all_x_pca,\n",
    "                 'all_x_w_num_pca': all_x_w_num_pca,\n",
    "                 'all_x_pca_w_num': pd.concat([pd.DataFrame(all_x_pca), model_df[cluster_num_cols]], axis = 1),\n",
    "                 'all_x_w_num_trans_sparse_pca' : all_x_w_num_trans_sparse_pca,\n",
    "                 'cat_state_county_pca' : cat_state_county_pca,\n",
    "                 'npi_prvdr_pca': npi_prvdr_pca,\n",
    "                 'pca_w_raw_pcdr_dgns':pd.concat([pd.DataFrame(cat_state_county_pca), pd.DataFrame(npi_prvdr_pca), X_pcdr_dgns], axis = 1),\n",
    "                 'pca_w_raw_pcdr_dgns_w_num_pca':pd.concat([model_df[cluster_num_cols], pd.DataFrame(cat_state_county_pca), pd.DataFrame(npi_prvdr_pca), X_pcdr_dgns], axis = 1)\n",
    "                }) "
   ]
  },
  {
   "cell_type": "code",
   "execution_count": 35,
   "metadata": {},
   "outputs": [
    {
     "name": "stdout",
     "output_type": "stream",
     "text": [
      "l1\n"
     ]
    },
    {
     "name": "stderr",
     "output_type": "stream",
     "text": [
      "C:\\ProgramData\\Anaconda3\\lib\\site-packages\\sklearn\\preprocessing\\data.py:625: DataConversionWarning: Data with input dtype int64, float64 were all converted to float64 by StandardScaler.\n",
      "  return self.partial_fit(X, y)\n",
      "C:\\ProgramData\\Anaconda3\\lib\\site-packages\\sklearn\\base.py:462: DataConversionWarning: Data with input dtype int64, float64 were all converted to float64 by StandardScaler.\n",
      "  return self.fit(X, **fit_params).transform(X)\n"
     ]
    },
    {
     "name": "stdout",
     "output_type": "stream",
     "text": [
      "l1 num_cols complete\n",
      "euclidean\n"
     ]
    },
    {
     "name": "stderr",
     "output_type": "stream",
     "text": [
      "C:\\ProgramData\\Anaconda3\\lib\\site-packages\\sklearn\\preprocessing\\data.py:625: DataConversionWarning: Data with input dtype int64, float64 were all converted to float64 by StandardScaler.\n",
      "  return self.partial_fit(X, y)\n",
      "C:\\ProgramData\\Anaconda3\\lib\\site-packages\\sklearn\\base.py:462: DataConversionWarning: Data with input dtype int64, float64 were all converted to float64 by StandardScaler.\n",
      "  return self.fit(X, **fit_params).transform(X)\n"
     ]
    },
    {
     "name": "stdout",
     "output_type": "stream",
     "text": [
      "euclidean num_cols complete\n",
      "cosine\n"
     ]
    },
    {
     "name": "stderr",
     "output_type": "stream",
     "text": [
      "C:\\ProgramData\\Anaconda3\\lib\\site-packages\\sklearn\\preprocessing\\data.py:625: DataConversionWarning: Data with input dtype int64, float64 were all converted to float64 by StandardScaler.\n",
      "  return self.partial_fit(X, y)\n",
      "C:\\ProgramData\\Anaconda3\\lib\\site-packages\\sklearn\\base.py:462: DataConversionWarning: Data with input dtype int64, float64 were all converted to float64 by StandardScaler.\n",
      "  return self.fit(X, **fit_params).transform(X)\n"
     ]
    },
    {
     "name": "stdout",
     "output_type": "stream",
     "text": [
      "cosine num_cols complete\n",
      "hamming\n"
     ]
    },
    {
     "name": "stderr",
     "output_type": "stream",
     "text": [
      "C:\\ProgramData\\Anaconda3\\lib\\site-packages\\sklearn\\preprocessing\\data.py:625: DataConversionWarning: Data with input dtype int64, float64 were all converted to float64 by StandardScaler.\n",
      "  return self.partial_fit(X, y)\n",
      "C:\\ProgramData\\Anaconda3\\lib\\site-packages\\sklearn\\base.py:462: DataConversionWarning: Data with input dtype int64, float64 were all converted to float64 by StandardScaler.\n",
      "  return self.fit(X, **fit_params).transform(X)\n"
     ]
    },
    {
     "name": "stdout",
     "output_type": "stream",
     "text": [
      "hamming num_cols complete\n",
      "l1\n"
     ]
    },
    {
     "name": "stderr",
     "output_type": "stream",
     "text": [
      "C:\\ProgramData\\Anaconda3\\lib\\site-packages\\sklearn\\preprocessing\\data.py:625: DataConversionWarning: Data with input dtype uint8, int64 were all converted to float64 by StandardScaler.\n",
      "  return self.partial_fit(X, y)\n",
      "C:\\ProgramData\\Anaconda3\\lib\\site-packages\\sklearn\\base.py:462: DataConversionWarning: Data with input dtype uint8, int64 were all converted to float64 by StandardScaler.\n",
      "  return self.fit(X, **fit_params).transform(X)\n"
     ]
    },
    {
     "name": "stdout",
     "output_type": "stream",
     "text": [
      "l1 npi_prvdr complete\n",
      "euclidean\n"
     ]
    },
    {
     "name": "stderr",
     "output_type": "stream",
     "text": [
      "C:\\ProgramData\\Anaconda3\\lib\\site-packages\\sklearn\\preprocessing\\data.py:625: DataConversionWarning: Data with input dtype uint8, int64 were all converted to float64 by StandardScaler.\n",
      "  return self.partial_fit(X, y)\n",
      "C:\\ProgramData\\Anaconda3\\lib\\site-packages\\sklearn\\base.py:462: DataConversionWarning: Data with input dtype uint8, int64 were all converted to float64 by StandardScaler.\n",
      "  return self.fit(X, **fit_params).transform(X)\n"
     ]
    },
    {
     "name": "stdout",
     "output_type": "stream",
     "text": [
      "euclidean npi_prvdr complete\n",
      "cosine\n"
     ]
    },
    {
     "name": "stderr",
     "output_type": "stream",
     "text": [
      "C:\\ProgramData\\Anaconda3\\lib\\site-packages\\sklearn\\preprocessing\\data.py:625: DataConversionWarning: Data with input dtype uint8, int64 were all converted to float64 by StandardScaler.\n",
      "  return self.partial_fit(X, y)\n",
      "C:\\ProgramData\\Anaconda3\\lib\\site-packages\\sklearn\\base.py:462: DataConversionWarning: Data with input dtype uint8, int64 were all converted to float64 by StandardScaler.\n",
      "  return self.fit(X, **fit_params).transform(X)\n"
     ]
    },
    {
     "name": "stdout",
     "output_type": "stream",
     "text": [
      "cosine npi_prvdr complete\n",
      "hamming\n"
     ]
    },
    {
     "name": "stderr",
     "output_type": "stream",
     "text": [
      "C:\\ProgramData\\Anaconda3\\lib\\site-packages\\sklearn\\preprocessing\\data.py:625: DataConversionWarning: Data with input dtype uint8, int64 were all converted to float64 by StandardScaler.\n",
      "  return self.partial_fit(X, y)\n",
      "C:\\ProgramData\\Anaconda3\\lib\\site-packages\\sklearn\\base.py:462: DataConversionWarning: Data with input dtype uint8, int64 were all converted to float64 by StandardScaler.\n",
      "  return self.fit(X, **fit_params).transform(X)\n"
     ]
    },
    {
     "name": "stdout",
     "output_type": "stream",
     "text": [
      "hamming npi_prvdr complete\n",
      "l1\n"
     ]
    },
    {
     "name": "stderr",
     "output_type": "stream",
     "text": [
      "C:\\ProgramData\\Anaconda3\\lib\\site-packages\\sklearn\\preprocessing\\data.py:625: DataConversionWarning: Data with input dtype uint8, int64 were all converted to float64 by StandardScaler.\n",
      "  return self.partial_fit(X, y)\n",
      "C:\\ProgramData\\Anaconda3\\lib\\site-packages\\sklearn\\base.py:462: DataConversionWarning: Data with input dtype uint8, int64 were all converted to float64 by StandardScaler.\n",
      "  return self.fit(X, **fit_params).transform(X)\n"
     ]
    },
    {
     "name": "stdout",
     "output_type": "stream",
     "text": [
      "l1 cat complete\n",
      "euclidean\n"
     ]
    },
    {
     "name": "stderr",
     "output_type": "stream",
     "text": [
      "C:\\ProgramData\\Anaconda3\\lib\\site-packages\\sklearn\\preprocessing\\data.py:625: DataConversionWarning: Data with input dtype uint8, int64 were all converted to float64 by StandardScaler.\n",
      "  return self.partial_fit(X, y)\n",
      "C:\\ProgramData\\Anaconda3\\lib\\site-packages\\sklearn\\base.py:462: DataConversionWarning: Data with input dtype uint8, int64 were all converted to float64 by StandardScaler.\n",
      "  return self.fit(X, **fit_params).transform(X)\n"
     ]
    },
    {
     "name": "stdout",
     "output_type": "stream",
     "text": [
      "euclidean cat complete\n",
      "cosine\n"
     ]
    },
    {
     "name": "stderr",
     "output_type": "stream",
     "text": [
      "C:\\ProgramData\\Anaconda3\\lib\\site-packages\\sklearn\\preprocessing\\data.py:625: DataConversionWarning: Data with input dtype uint8, int64 were all converted to float64 by StandardScaler.\n",
      "  return self.partial_fit(X, y)\n",
      "C:\\ProgramData\\Anaconda3\\lib\\site-packages\\sklearn\\base.py:462: DataConversionWarning: Data with input dtype uint8, int64 were all converted to float64 by StandardScaler.\n",
      "  return self.fit(X, **fit_params).transform(X)\n"
     ]
    },
    {
     "name": "stdout",
     "output_type": "stream",
     "text": [
      "cosine cat complete\n",
      "hamming\n"
     ]
    },
    {
     "name": "stderr",
     "output_type": "stream",
     "text": [
      "C:\\ProgramData\\Anaconda3\\lib\\site-packages\\sklearn\\preprocessing\\data.py:625: DataConversionWarning: Data with input dtype uint8, int64 were all converted to float64 by StandardScaler.\n",
      "  return self.partial_fit(X, y)\n",
      "C:\\ProgramData\\Anaconda3\\lib\\site-packages\\sklearn\\base.py:462: DataConversionWarning: Data with input dtype uint8, int64 were all converted to float64 by StandardScaler.\n",
      "  return self.fit(X, **fit_params).transform(X)\n"
     ]
    },
    {
     "name": "stdout",
     "output_type": "stream",
     "text": [
      "hamming cat complete\n",
      "l1\n"
     ]
    },
    {
     "name": "stderr",
     "output_type": "stream",
     "text": [
      "C:\\ProgramData\\Anaconda3\\lib\\site-packages\\sklearn\\preprocessing\\data.py:625: DataConversionWarning: Data with input dtype uint8 were all converted to float64 by StandardScaler.\n",
      "  return self.partial_fit(X, y)\n",
      "C:\\ProgramData\\Anaconda3\\lib\\site-packages\\sklearn\\base.py:462: DataConversionWarning: Data with input dtype uint8 were all converted to float64 by StandardScaler.\n",
      "  return self.fit(X, **fit_params).transform(X)\n"
     ]
    },
    {
     "name": "stdout",
     "output_type": "stream",
     "text": [
      "l1 state_county complete\n",
      "euclidean\n"
     ]
    },
    {
     "name": "stderr",
     "output_type": "stream",
     "text": [
      "C:\\ProgramData\\Anaconda3\\lib\\site-packages\\sklearn\\preprocessing\\data.py:625: DataConversionWarning: Data with input dtype uint8 were all converted to float64 by StandardScaler.\n",
      "  return self.partial_fit(X, y)\n",
      "C:\\ProgramData\\Anaconda3\\lib\\site-packages\\sklearn\\base.py:462: DataConversionWarning: Data with input dtype uint8 were all converted to float64 by StandardScaler.\n",
      "  return self.fit(X, **fit_params).transform(X)\n"
     ]
    },
    {
     "name": "stdout",
     "output_type": "stream",
     "text": [
      "euclidean state_county complete\n",
      "cosine\n"
     ]
    },
    {
     "name": "stderr",
     "output_type": "stream",
     "text": [
      "C:\\ProgramData\\Anaconda3\\lib\\site-packages\\sklearn\\preprocessing\\data.py:625: DataConversionWarning: Data with input dtype uint8 were all converted to float64 by StandardScaler.\n",
      "  return self.partial_fit(X, y)\n",
      "C:\\ProgramData\\Anaconda3\\lib\\site-packages\\sklearn\\base.py:462: DataConversionWarning: Data with input dtype uint8 were all converted to float64 by StandardScaler.\n",
      "  return self.fit(X, **fit_params).transform(X)\n",
      "C:\\ProgramData\\Anaconda3\\lib\\site-packages\\sklearn\\externals\\joblib\\disk.py:122: UserWarning: Unable to delete folder C:\\Users\\598300\\AppData\\Local\\Temp\\joblib_memmapping_folder_11848_4615475955 after 5 tentatives.\n",
      "  .format(folder_path, RM_SUBDIRS_N_RETRY))\n",
      "C:\\ProgramData\\Anaconda3\\lib\\site-packages\\sklearn\\preprocessing\\data.py:625: DataConversionWarning: Data with input dtype uint8 were all converted to float64 by StandardScaler.\n",
      "  return self.partial_fit(X, y)\n",
      "C:\\ProgramData\\Anaconda3\\lib\\site-packages\\sklearn\\base.py:462: DataConversionWarning: Data with input dtype uint8 were all converted to float64 by StandardScaler.\n",
      "  return self.fit(X, **fit_params).transform(X)\n"
     ]
    },
    {
     "name": "stdout",
     "output_type": "stream",
     "text": [
      "cosine state_county ERRORED OUT\n",
      "hamming\n",
      "hamming state_county complete\n",
      "l1\n"
     ]
    },
    {
     "name": "stderr",
     "output_type": "stream",
     "text": [
      "C:\\ProgramData\\Anaconda3\\lib\\site-packages\\sklearn\\preprocessing\\data.py:625: DataConversionWarning: Data with input dtype int64 were all converted to float64 by StandardScaler.\n",
      "  return self.partial_fit(X, y)\n",
      "C:\\ProgramData\\Anaconda3\\lib\\site-packages\\sklearn\\base.py:462: DataConversionWarning: Data with input dtype int64 were all converted to float64 by StandardScaler.\n",
      "  return self.fit(X, **fit_params).transform(X)\n"
     ]
    },
    {
     "name": "stdout",
     "output_type": "stream",
     "text": [
      "l1 prcdr_dgns complete\n",
      "euclidean\n"
     ]
    },
    {
     "name": "stderr",
     "output_type": "stream",
     "text": [
      "C:\\ProgramData\\Anaconda3\\lib\\site-packages\\sklearn\\preprocessing\\data.py:625: DataConversionWarning: Data with input dtype int64 were all converted to float64 by StandardScaler.\n",
      "  return self.partial_fit(X, y)\n",
      "C:\\ProgramData\\Anaconda3\\lib\\site-packages\\sklearn\\base.py:462: DataConversionWarning: Data with input dtype int64 were all converted to float64 by StandardScaler.\n",
      "  return self.fit(X, **fit_params).transform(X)\n"
     ]
    },
    {
     "name": "stdout",
     "output_type": "stream",
     "text": [
      "euclidean prcdr_dgns complete\n",
      "cosine\n"
     ]
    },
    {
     "name": "stderr",
     "output_type": "stream",
     "text": [
      "C:\\ProgramData\\Anaconda3\\lib\\site-packages\\sklearn\\preprocessing\\data.py:625: DataConversionWarning: Data with input dtype int64 were all converted to float64 by StandardScaler.\n",
      "  return self.partial_fit(X, y)\n",
      "C:\\ProgramData\\Anaconda3\\lib\\site-packages\\sklearn\\base.py:462: DataConversionWarning: Data with input dtype int64 were all converted to float64 by StandardScaler.\n",
      "  return self.fit(X, **fit_params).transform(X)\n"
     ]
    },
    {
     "name": "stdout",
     "output_type": "stream",
     "text": [
      "cosine prcdr_dgns complete\n",
      "hamming\n"
     ]
    },
    {
     "name": "stderr",
     "output_type": "stream",
     "text": [
      "C:\\ProgramData\\Anaconda3\\lib\\site-packages\\sklearn\\preprocessing\\data.py:625: DataConversionWarning: Data with input dtype int64 were all converted to float64 by StandardScaler.\n",
      "  return self.partial_fit(X, y)\n",
      "C:\\ProgramData\\Anaconda3\\lib\\site-packages\\sklearn\\base.py:462: DataConversionWarning: Data with input dtype int64 were all converted to float64 by StandardScaler.\n",
      "  return self.fit(X, **fit_params).transform(X)\n"
     ]
    },
    {
     "name": "stdout",
     "output_type": "stream",
     "text": [
      "hamming prcdr_dgns complete\n",
      "l1\n"
     ]
    },
    {
     "name": "stderr",
     "output_type": "stream",
     "text": [
      "C:\\ProgramData\\Anaconda3\\lib\\site-packages\\sklearn\\preprocessing\\data.py:625: DataConversionWarning: Data with input dtype uint8, int64 were all converted to float64 by StandardScaler.\n",
      "  return self.partial_fit(X, y)\n",
      "C:\\ProgramData\\Anaconda3\\lib\\site-packages\\sklearn\\base.py:462: DataConversionWarning: Data with input dtype uint8, int64 were all converted to float64 by StandardScaler.\n",
      "  return self.fit(X, **fit_params).transform(X)\n"
     ]
    },
    {
     "name": "stdout",
     "output_type": "stream",
     "text": [
      "l1 cat_state_county complete\n",
      "euclidean\n"
     ]
    },
    {
     "name": "stderr",
     "output_type": "stream",
     "text": [
      "C:\\ProgramData\\Anaconda3\\lib\\site-packages\\sklearn\\preprocessing\\data.py:625: DataConversionWarning: Data with input dtype uint8, int64 were all converted to float64 by StandardScaler.\n",
      "  return self.partial_fit(X, y)\n",
      "C:\\ProgramData\\Anaconda3\\lib\\site-packages\\sklearn\\base.py:462: DataConversionWarning: Data with input dtype uint8, int64 were all converted to float64 by StandardScaler.\n",
      "  return self.fit(X, **fit_params).transform(X)\n"
     ]
    },
    {
     "name": "stdout",
     "output_type": "stream",
     "text": [
      "euclidean cat_state_county complete\n",
      "cosine\n"
     ]
    },
    {
     "name": "stderr",
     "output_type": "stream",
     "text": [
      "C:\\ProgramData\\Anaconda3\\lib\\site-packages\\sklearn\\preprocessing\\data.py:625: DataConversionWarning: Data with input dtype uint8, int64 were all converted to float64 by StandardScaler.\n",
      "  return self.partial_fit(X, y)\n",
      "C:\\ProgramData\\Anaconda3\\lib\\site-packages\\sklearn\\base.py:462: DataConversionWarning: Data with input dtype uint8, int64 were all converted to float64 by StandardScaler.\n",
      "  return self.fit(X, **fit_params).transform(X)\n",
      "C:\\ProgramData\\Anaconda3\\lib\\site-packages\\sklearn\\externals\\joblib\\disk.py:122: UserWarning: Unable to delete folder C:\\Users\\598300\\AppData\\Local\\Temp\\joblib_memmapping_folder_11848_4615475955 after 5 tentatives.\n",
      "  .format(folder_path, RM_SUBDIRS_N_RETRY))\n",
      "C:\\ProgramData\\Anaconda3\\lib\\site-packages\\sklearn\\preprocessing\\data.py:625: DataConversionWarning: Data with input dtype uint8, int64 were all converted to float64 by StandardScaler.\n",
      "  return self.partial_fit(X, y)\n",
      "C:\\ProgramData\\Anaconda3\\lib\\site-packages\\sklearn\\base.py:462: DataConversionWarning: Data with input dtype uint8, int64 were all converted to float64 by StandardScaler.\n",
      "  return self.fit(X, **fit_params).transform(X)\n"
     ]
    },
    {
     "name": "stdout",
     "output_type": "stream",
     "text": [
      "cosine cat_state_county ERRORED OUT\n",
      "hamming\n",
      "hamming cat_state_county complete\n",
      "l1\n"
     ]
    },
    {
     "name": "stderr",
     "output_type": "stream",
     "text": [
      "C:\\ProgramData\\Anaconda3\\lib\\site-packages\\sklearn\\preprocessing\\data.py:625: DataConversionWarning: Data with input dtype uint8, int64 were all converted to float64 by StandardScaler.\n",
      "  return self.partial_fit(X, y)\n",
      "C:\\ProgramData\\Anaconda3\\lib\\site-packages\\sklearn\\base.py:462: DataConversionWarning: Data with input dtype uint8, int64 were all converted to float64 by StandardScaler.\n",
      "  return self.fit(X, **fit_params).transform(X)\n"
     ]
    },
    {
     "name": "stdout",
     "output_type": "stream",
     "text": [
      "l1 all_x complete\n",
      "euclidean\n"
     ]
    },
    {
     "name": "stderr",
     "output_type": "stream",
     "text": [
      "C:\\ProgramData\\Anaconda3\\lib\\site-packages\\sklearn\\preprocessing\\data.py:625: DataConversionWarning: Data with input dtype uint8, int64 were all converted to float64 by StandardScaler.\n",
      "  return self.partial_fit(X, y)\n",
      "C:\\ProgramData\\Anaconda3\\lib\\site-packages\\sklearn\\base.py:462: DataConversionWarning: Data with input dtype uint8, int64 were all converted to float64 by StandardScaler.\n",
      "  return self.fit(X, **fit_params).transform(X)\n"
     ]
    },
    {
     "name": "stdout",
     "output_type": "stream",
     "text": [
      "euclidean all_x complete\n",
      "cosine\n"
     ]
    },
    {
     "name": "stderr",
     "output_type": "stream",
     "text": [
      "C:\\ProgramData\\Anaconda3\\lib\\site-packages\\sklearn\\preprocessing\\data.py:625: DataConversionWarning: Data with input dtype uint8, int64 were all converted to float64 by StandardScaler.\n",
      "  return self.partial_fit(X, y)\n",
      "C:\\ProgramData\\Anaconda3\\lib\\site-packages\\sklearn\\base.py:462: DataConversionWarning: Data with input dtype uint8, int64 were all converted to float64 by StandardScaler.\n",
      "  return self.fit(X, **fit_params).transform(X)\n"
     ]
    },
    {
     "name": "stdout",
     "output_type": "stream",
     "text": [
      "cosine all_x complete\n",
      "hamming\n"
     ]
    },
    {
     "name": "stderr",
     "output_type": "stream",
     "text": [
      "C:\\ProgramData\\Anaconda3\\lib\\site-packages\\sklearn\\preprocessing\\data.py:625: DataConversionWarning: Data with input dtype uint8, int64 were all converted to float64 by StandardScaler.\n",
      "  return self.partial_fit(X, y)\n",
      "C:\\ProgramData\\Anaconda3\\lib\\site-packages\\sklearn\\base.py:462: DataConversionWarning: Data with input dtype uint8, int64 were all converted to float64 by StandardScaler.\n",
      "  return self.fit(X, **fit_params).transform(X)\n"
     ]
    },
    {
     "name": "stdout",
     "output_type": "stream",
     "text": [
      "hamming all_x complete\n",
      "l1\n"
     ]
    },
    {
     "name": "stderr",
     "output_type": "stream",
     "text": [
      "C:\\ProgramData\\Anaconda3\\lib\\site-packages\\sklearn\\preprocessing\\data.py:625: DataConversionWarning: Data with input dtype uint8, int64, float64 were all converted to float64 by StandardScaler.\n",
      "  return self.partial_fit(X, y)\n",
      "C:\\ProgramData\\Anaconda3\\lib\\site-packages\\sklearn\\base.py:462: DataConversionWarning: Data with input dtype uint8, int64, float64 were all converted to float64 by StandardScaler.\n",
      "  return self.fit(X, **fit_params).transform(X)\n"
     ]
    },
    {
     "name": "stdout",
     "output_type": "stream",
     "text": [
      "l1 all_x_w_num complete\n",
      "euclidean\n"
     ]
    },
    {
     "name": "stderr",
     "output_type": "stream",
     "text": [
      "C:\\ProgramData\\Anaconda3\\lib\\site-packages\\sklearn\\preprocessing\\data.py:625: DataConversionWarning: Data with input dtype uint8, int64, float64 were all converted to float64 by StandardScaler.\n",
      "  return self.partial_fit(X, y)\n",
      "C:\\ProgramData\\Anaconda3\\lib\\site-packages\\sklearn\\base.py:462: DataConversionWarning: Data with input dtype uint8, int64, float64 were all converted to float64 by StandardScaler.\n",
      "  return self.fit(X, **fit_params).transform(X)\n"
     ]
    },
    {
     "name": "stdout",
     "output_type": "stream",
     "text": [
      "euclidean all_x_w_num complete\n",
      "cosine\n"
     ]
    },
    {
     "name": "stderr",
     "output_type": "stream",
     "text": [
      "C:\\ProgramData\\Anaconda3\\lib\\site-packages\\sklearn\\preprocessing\\data.py:625: DataConversionWarning: Data with input dtype uint8, int64, float64 were all converted to float64 by StandardScaler.\n",
      "  return self.partial_fit(X, y)\n",
      "C:\\ProgramData\\Anaconda3\\lib\\site-packages\\sklearn\\base.py:462: DataConversionWarning: Data with input dtype uint8, int64, float64 were all converted to float64 by StandardScaler.\n",
      "  return self.fit(X, **fit_params).transform(X)\n"
     ]
    },
    {
     "name": "stdout",
     "output_type": "stream",
     "text": [
      "cosine all_x_w_num complete\n",
      "hamming\n"
     ]
    },
    {
     "name": "stderr",
     "output_type": "stream",
     "text": [
      "C:\\ProgramData\\Anaconda3\\lib\\site-packages\\sklearn\\preprocessing\\data.py:625: DataConversionWarning: Data with input dtype uint8, int64, float64 were all converted to float64 by StandardScaler.\n",
      "  return self.partial_fit(X, y)\n",
      "C:\\ProgramData\\Anaconda3\\lib\\site-packages\\sklearn\\base.py:462: DataConversionWarning: Data with input dtype uint8, int64, float64 were all converted to float64 by StandardScaler.\n",
      "  return self.fit(X, **fit_params).transform(X)\n"
     ]
    },
    {
     "name": "stdout",
     "output_type": "stream",
     "text": [
      "hamming all_x_w_num complete\n",
      "l1\n",
      "l1 all_x_pca complete\n",
      "euclidean\n",
      "euclidean all_x_pca complete\n",
      "cosine\n"
     ]
    },
    {
     "name": "stderr",
     "output_type": "stream",
     "text": [
      "C:\\ProgramData\\Anaconda3\\lib\\site-packages\\sklearn\\externals\\joblib\\disk.py:122: UserWarning: Unable to delete folder C:\\Users\\598300\\AppData\\Local\\Temp\\joblib_memmapping_folder_11848_4615475955 after 5 tentatives.\n",
      "  .format(folder_path, RM_SUBDIRS_N_RETRY))\n"
     ]
    },
    {
     "name": "stdout",
     "output_type": "stream",
     "text": [
      "cosine all_x_pca ERRORED OUT\n",
      "hamming\n",
      "hamming all_x_pca complete\n",
      "l1\n",
      "l1 all_x_w_num_pca complete\n",
      "euclidean\n",
      "euclidean all_x_w_num_pca complete\n",
      "cosine\n",
      "cosine all_x_w_num_pca complete\n",
      "hamming\n",
      "hamming all_x_w_num_pca complete\n",
      "l1\n"
     ]
    },
    {
     "name": "stderr",
     "output_type": "stream",
     "text": [
      "C:\\ProgramData\\Anaconda3\\lib\\site-packages\\sklearn\\preprocessing\\data.py:625: DataConversionWarning: Data with input dtype int64, float64 were all converted to float64 by StandardScaler.\n",
      "  return self.partial_fit(X, y)\n",
      "C:\\ProgramData\\Anaconda3\\lib\\site-packages\\sklearn\\base.py:462: DataConversionWarning: Data with input dtype int64, float64 were all converted to float64 by StandardScaler.\n",
      "  return self.fit(X, **fit_params).transform(X)\n"
     ]
    },
    {
     "name": "stdout",
     "output_type": "stream",
     "text": [
      "l1 all_x_pca_w_num complete\n",
      "euclidean\n"
     ]
    },
    {
     "name": "stderr",
     "output_type": "stream",
     "text": [
      "C:\\ProgramData\\Anaconda3\\lib\\site-packages\\sklearn\\preprocessing\\data.py:625: DataConversionWarning: Data with input dtype int64, float64 were all converted to float64 by StandardScaler.\n",
      "  return self.partial_fit(X, y)\n",
      "C:\\ProgramData\\Anaconda3\\lib\\site-packages\\sklearn\\base.py:462: DataConversionWarning: Data with input dtype int64, float64 were all converted to float64 by StandardScaler.\n",
      "  return self.fit(X, **fit_params).transform(X)\n"
     ]
    },
    {
     "name": "stdout",
     "output_type": "stream",
     "text": [
      "euclidean all_x_pca_w_num complete\n",
      "cosine\n"
     ]
    },
    {
     "name": "stderr",
     "output_type": "stream",
     "text": [
      "C:\\ProgramData\\Anaconda3\\lib\\site-packages\\sklearn\\preprocessing\\data.py:625: DataConversionWarning: Data with input dtype int64, float64 were all converted to float64 by StandardScaler.\n",
      "  return self.partial_fit(X, y)\n",
      "C:\\ProgramData\\Anaconda3\\lib\\site-packages\\sklearn\\base.py:462: DataConversionWarning: Data with input dtype int64, float64 were all converted to float64 by StandardScaler.\n",
      "  return self.fit(X, **fit_params).transform(X)\n",
      "C:\\ProgramData\\Anaconda3\\lib\\site-packages\\sklearn\\externals\\joblib\\disk.py:122: UserWarning: Unable to delete folder C:\\Users\\598300\\AppData\\Local\\Temp\\joblib_memmapping_folder_11848_4615475955 after 5 tentatives.\n",
      "  .format(folder_path, RM_SUBDIRS_N_RETRY))\n",
      "C:\\ProgramData\\Anaconda3\\lib\\site-packages\\sklearn\\preprocessing\\data.py:625: DataConversionWarning: Data with input dtype int64, float64 were all converted to float64 by StandardScaler.\n",
      "  return self.partial_fit(X, y)\n",
      "C:\\ProgramData\\Anaconda3\\lib\\site-packages\\sklearn\\base.py:462: DataConversionWarning: Data with input dtype int64, float64 were all converted to float64 by StandardScaler.\n",
      "  return self.fit(X, **fit_params).transform(X)\n"
     ]
    },
    {
     "name": "stdout",
     "output_type": "stream",
     "text": [
      "cosine all_x_pca_w_num ERRORED OUT\n",
      "hamming\n",
      "hamming all_x_pca_w_num complete\n",
      "l1\n",
      "l1 all_x_w_num_trans_sparse_pca complete\n",
      "euclidean\n",
      "euclidean all_x_w_num_trans_sparse_pca complete\n",
      "cosine\n",
      "cosine all_x_w_num_trans_sparse_pca complete\n",
      "hamming\n",
      "hamming all_x_w_num_trans_sparse_pca complete\n",
      "l1\n",
      "l1 cat_state_county_pca complete\n",
      "euclidean\n",
      "euclidean cat_state_county_pca complete\n",
      "cosine\n"
     ]
    },
    {
     "name": "stderr",
     "output_type": "stream",
     "text": [
      "C:\\ProgramData\\Anaconda3\\lib\\site-packages\\sklearn\\externals\\joblib\\disk.py:122: UserWarning: Unable to delete folder C:\\Users\\598300\\AppData\\Local\\Temp\\joblib_memmapping_folder_11848_4615475955 after 5 tentatives.\n",
      "  .format(folder_path, RM_SUBDIRS_N_RETRY))\n"
     ]
    },
    {
     "name": "stdout",
     "output_type": "stream",
     "text": [
      "cosine cat_state_county_pca ERRORED OUT\n",
      "hamming\n",
      "hamming cat_state_county_pca complete\n",
      "l1\n",
      "l1 npi_prvdr_pca complete\n",
      "euclidean\n",
      "euclidean npi_prvdr_pca complete\n",
      "cosine\n"
     ]
    },
    {
     "name": "stderr",
     "output_type": "stream",
     "text": [
      "C:\\ProgramData\\Anaconda3\\lib\\site-packages\\sklearn\\externals\\joblib\\disk.py:122: UserWarning: Unable to delete folder C:\\Users\\598300\\AppData\\Local\\Temp\\joblib_memmapping_folder_11848_4615475955 after 5 tentatives.\n",
      "  .format(folder_path, RM_SUBDIRS_N_RETRY))\n"
     ]
    },
    {
     "name": "stdout",
     "output_type": "stream",
     "text": [
      "cosine npi_prvdr_pca ERRORED OUT\n",
      "hamming\n",
      "hamming npi_prvdr_pca complete\n",
      "l1\n"
     ]
    },
    {
     "name": "stderr",
     "output_type": "stream",
     "text": [
      "C:\\ProgramData\\Anaconda3\\lib\\site-packages\\sklearn\\preprocessing\\data.py:625: DataConversionWarning: Data with input dtype int64, float64 were all converted to float64 by StandardScaler.\n",
      "  return self.partial_fit(X, y)\n",
      "C:\\ProgramData\\Anaconda3\\lib\\site-packages\\sklearn\\base.py:462: DataConversionWarning: Data with input dtype int64, float64 were all converted to float64 by StandardScaler.\n",
      "  return self.fit(X, **fit_params).transform(X)\n"
     ]
    },
    {
     "name": "stdout",
     "output_type": "stream",
     "text": [
      "l1 pca_w_raw_pcdr_dgns complete\n",
      "euclidean\n"
     ]
    },
    {
     "name": "stderr",
     "output_type": "stream",
     "text": [
      "C:\\ProgramData\\Anaconda3\\lib\\site-packages\\sklearn\\preprocessing\\data.py:625: DataConversionWarning: Data with input dtype int64, float64 were all converted to float64 by StandardScaler.\n",
      "  return self.partial_fit(X, y)\n",
      "C:\\ProgramData\\Anaconda3\\lib\\site-packages\\sklearn\\base.py:462: DataConversionWarning: Data with input dtype int64, float64 were all converted to float64 by StandardScaler.\n",
      "  return self.fit(X, **fit_params).transform(X)\n"
     ]
    },
    {
     "name": "stdout",
     "output_type": "stream",
     "text": [
      "euclidean pca_w_raw_pcdr_dgns complete\n",
      "cosine\n"
     ]
    },
    {
     "name": "stderr",
     "output_type": "stream",
     "text": [
      "C:\\ProgramData\\Anaconda3\\lib\\site-packages\\sklearn\\preprocessing\\data.py:625: DataConversionWarning: Data with input dtype int64, float64 were all converted to float64 by StandardScaler.\n",
      "  return self.partial_fit(X, y)\n",
      "C:\\ProgramData\\Anaconda3\\lib\\site-packages\\sklearn\\base.py:462: DataConversionWarning: Data with input dtype int64, float64 were all converted to float64 by StandardScaler.\n",
      "  return self.fit(X, **fit_params).transform(X)\n",
      "C:\\ProgramData\\Anaconda3\\lib\\site-packages\\sklearn\\externals\\joblib\\disk.py:122: UserWarning: Unable to delete folder C:\\Users\\598300\\AppData\\Local\\Temp\\joblib_memmapping_folder_11848_4615475955 after 5 tentatives.\n",
      "  .format(folder_path, RM_SUBDIRS_N_RETRY))\n",
      "C:\\ProgramData\\Anaconda3\\lib\\site-packages\\sklearn\\preprocessing\\data.py:625: DataConversionWarning: Data with input dtype int64, float64 were all converted to float64 by StandardScaler.\n",
      "  return self.partial_fit(X, y)\n",
      "C:\\ProgramData\\Anaconda3\\lib\\site-packages\\sklearn\\base.py:462: DataConversionWarning: Data with input dtype int64, float64 were all converted to float64 by StandardScaler.\n",
      "  return self.fit(X, **fit_params).transform(X)\n"
     ]
    },
    {
     "name": "stdout",
     "output_type": "stream",
     "text": [
      "cosine pca_w_raw_pcdr_dgns ERRORED OUT\n",
      "hamming\n",
      "hamming pca_w_raw_pcdr_dgns complete\n",
      "l1\n"
     ]
    },
    {
     "name": "stderr",
     "output_type": "stream",
     "text": [
      "C:\\ProgramData\\Anaconda3\\lib\\site-packages\\sklearn\\preprocessing\\data.py:625: DataConversionWarning: Data with input dtype int64, float64 were all converted to float64 by StandardScaler.\n",
      "  return self.partial_fit(X, y)\n",
      "C:\\ProgramData\\Anaconda3\\lib\\site-packages\\sklearn\\base.py:462: DataConversionWarning: Data with input dtype int64, float64 were all converted to float64 by StandardScaler.\n",
      "  return self.fit(X, **fit_params).transform(X)\n"
     ]
    },
    {
     "name": "stdout",
     "output_type": "stream",
     "text": [
      "l1 pca_w_raw_pcdr_dgns_w_num_pca complete\n",
      "euclidean\n"
     ]
    },
    {
     "name": "stderr",
     "output_type": "stream",
     "text": [
      "C:\\ProgramData\\Anaconda3\\lib\\site-packages\\sklearn\\preprocessing\\data.py:625: DataConversionWarning: Data with input dtype int64, float64 were all converted to float64 by StandardScaler.\n",
      "  return self.partial_fit(X, y)\n",
      "C:\\ProgramData\\Anaconda3\\lib\\site-packages\\sklearn\\base.py:462: DataConversionWarning: Data with input dtype int64, float64 were all converted to float64 by StandardScaler.\n",
      "  return self.fit(X, **fit_params).transform(X)\n"
     ]
    },
    {
     "name": "stdout",
     "output_type": "stream",
     "text": [
      "euclidean pca_w_raw_pcdr_dgns_w_num_pca complete\n",
      "cosine\n"
     ]
    },
    {
     "name": "stderr",
     "output_type": "stream",
     "text": [
      "C:\\ProgramData\\Anaconda3\\lib\\site-packages\\sklearn\\preprocessing\\data.py:625: DataConversionWarning: Data with input dtype int64, float64 were all converted to float64 by StandardScaler.\n",
      "  return self.partial_fit(X, y)\n",
      "C:\\ProgramData\\Anaconda3\\lib\\site-packages\\sklearn\\base.py:462: DataConversionWarning: Data with input dtype int64, float64 were all converted to float64 by StandardScaler.\n",
      "  return self.fit(X, **fit_params).transform(X)\n",
      "C:\\ProgramData\\Anaconda3\\lib\\site-packages\\sklearn\\externals\\joblib\\disk.py:122: UserWarning: Unable to delete folder C:\\Users\\598300\\AppData\\Local\\Temp\\joblib_memmapping_folder_11848_4615475955 after 5 tentatives.\n",
      "  .format(folder_path, RM_SUBDIRS_N_RETRY))\n",
      "C:\\ProgramData\\Anaconda3\\lib\\site-packages\\sklearn\\preprocessing\\data.py:625: DataConversionWarning: Data with input dtype int64, float64 were all converted to float64 by StandardScaler.\n",
      "  return self.partial_fit(X, y)\n",
      "C:\\ProgramData\\Anaconda3\\lib\\site-packages\\sklearn\\base.py:462: DataConversionWarning: Data with input dtype int64, float64 were all converted to float64 by StandardScaler.\n",
      "  return self.fit(X, **fit_params).transform(X)\n"
     ]
    },
    {
     "name": "stdout",
     "output_type": "stream",
     "text": [
      "cosine pca_w_raw_pcdr_dgns_w_num_pca ERRORED OUT\n",
      "hamming\n",
      "hamming pca_w_raw_pcdr_dgns_w_num_pca complete\n",
      "Wall time: 8min 46s\n"
     ]
    }
   ],
   "source": [
    "%%time\n",
    "db_list = []\n",
    "models_dbscan = dict()\n",
    "for k in list(mat_dict.keys()):\n",
    "    for mtr in ['l1','euclidean','cosine','hamming']: \n",
    "        print(mtr)\n",
    "        X = StandardScaler().fit_transform(mat_dict[k])\n",
    "        try:\n",
    "            db = DBSCAN(n_jobs = -1, metric = mtr).fit(X)\n",
    "            filename = pickle_folder + 'dbscan_pca_{}_{}.pickle'.format(mtr, k)\n",
    "            db_list.append(filename)\n",
    "            pickle.dump(db, open(filename,'wb'))\n",
    "            print(mtr + ' '+ k +' complete')\n",
    "        except:\n",
    "            print(mtr + ' '+ k +' ERRORED OUT')"
   ]
  },
  {
   "cell_type": "code",
   "execution_count": 34,
   "metadata": {},
   "outputs": [
    {
     "data": {
      "text/plain": [
       "'cosine'"
      ]
     },
     "execution_count": 34,
     "metadata": {},
     "output_type": "execute_result"
    }
   ],
   "source": []
  }
 ],
 "metadata": {
  "kernelspec": {
   "display_name": "Python 3",
   "language": "python",
   "name": "python3"
  },
  "language_info": {
   "codemirror_mode": {
    "name": "ipython",
    "version": 3
   },
   "file_extension": ".py",
   "mimetype": "text/x-python",
   "name": "python",
   "nbconvert_exporter": "python",
   "pygments_lexer": "ipython3",
   "version": "3.6.5"
  }
 },
 "nbformat": 4,
 "nbformat_minor": 2
}
